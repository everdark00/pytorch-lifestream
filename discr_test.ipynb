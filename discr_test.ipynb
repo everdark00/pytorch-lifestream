{
 "cells": [
  {
   "cell_type": "code",
   "execution_count": 12,
   "id": "ae7e045b-dae2-4aa9-b37d-36a1519036d1",
   "metadata": {},
   "outputs": [],
   "source": [
    "import ptls\n",
    "import pandas as pd\n",
    "import os\n",
    "from ptls.preprocessing import PandasDataPreprocessor\n",
    "import numpy as np\n",
    "import torch\n",
    "from sklearn.preprocessing import KBinsDiscretizer\n",
    "from scipy.stats import chisquare\n"
   ]
  },
  {
   "cell_type": "code",
   "execution_count": 2,
   "id": "2842e5ef-a1ab-4cfe-a7b3-20c8cce2407d",
   "metadata": {},
   "outputs": [],
   "source": [
    "def prepare_data_gender_scenario():\n",
    "    data_path = '../data/gender'\n",
    "\n",
    "    source_data = pd.read_csv(os.path.join(data_path, 'transactions.csv'))\n",
    "    source_data = source_data.drop(columns=[\"term_id\"]).rename(columns={'customer_id' : 'client_id'})\n",
    "    if 'Unnamed: 0' in source_data.columns:\n",
    "        source_data = source_data.drop(columns=['Unnamed: 0'])\n",
    "\n",
    "    source_data['time'] = [i.split()[1] for i in source_data.tr_datetime.values]\n",
    "\n",
    "    padded_time = source_data['tr_datetime'].str.pad(15, 'left', '0')\n",
    "    day_part = padded_time.str[:6].astype(float)\n",
    "    time_part = pd.to_datetime(padded_time.str[7:], format='%H:%M:%S').values.astype('int64') // 1e9\n",
    "    time_part = time_part % (24 * 60 * 60) / (24 * 60 * 60)\n",
    "    \n",
    "    source_data.tr_datetime = day_part + time_part\n",
    "\n",
    "    df_params = {\n",
    "        \"numeric_cols\" : [\"amount\"],\n",
    "        \"cat_cols\" : [\"mcc_code\", \"tr_type\"],\n",
    "        \"cat_unique\" : [],\n",
    "        \"order_col\" : \"tr_datetime\",\n",
    "        \"time_col\": \"time\",\n",
    "        \"text_cols\" : ['description'],\n",
    "        \"id_col\" : \"client_id\",\n",
    "        \"target\" : \"gender\"\n",
    "    }\n",
    "\n",
    "    for f in df_params[\"cat_cols\"]:\n",
    "        df_params[\"cat_unique\"].append(source_data[f].unique().shape[0])\n",
    "\n",
    "    targets = pd.read_csv(os.path.join('../data/gender', 'gender_train.csv')).rename(columns={'customer_id' : 'client_id'})\n",
    "    targets = source_data[['client_id']].drop_duplicates().merge(targets, on='client_id', how='left').dropna() \n",
    "    \n",
    "    return source_data, targets, df_params"
   ]
  },
  {
   "cell_type": "code",
   "execution_count": 3,
   "id": "ef7989e4-9358-4f48-9f73-9c38afe9b8f3",
   "metadata": {},
   "outputs": [],
   "source": [
    "data, targets, df_params = prepare_data_gender_scenario()"
   ]
  },
  {
   "cell_type": "code",
   "execution_count": 24,
   "id": "719ff16e-9281-45d4-80c0-013f4aa755e0",
   "metadata": {},
   "outputs": [
    {
     "name": "stdout",
     "output_type": "stream",
     "text": [
      "Creating Dask Server\n",
      "Link Dask Server - http://172.19.0.1:57904/status\n"
     ]
    },
    {
     "name": "stderr",
     "output_type": "stream",
     "text": [
      "C:\\Users\\toppc\\.conda\\envs\\ptls-fork\\lib\\site-packages\\distributed\\node.py:187: UserWarning: Port 8787 is already in use.\n",
      "Perhaps you already have a cluster running?\n",
      "Hosting the HTTP server on port 57904 instead\n",
      "  warnings.warn(\n"
     ]
    }
   ],
   "source": [
    "preprocessor = PandasDataPreprocessor(\n",
    "            col_id=df_params['id_col'],\n",
    "            col_event_time=df_params['order_col'],\n",
    "            event_time_transformation='none',\n",
    "            category_transformation = 'frequency',\n",
    "            cols_category=df_params['cat_cols'],\n",
    "            cols_discretize={'amount' : ('kmeans', 100)},\n",
    "            cols_numerical=['amount'],\n",
    "            return_records=True,\n",
    "        )"
   ]
  },
  {
   "cell_type": "code",
   "execution_count": 25,
   "id": "1eba3425-d5e7-40ce-b69f-429eb1f30841",
   "metadata": {},
   "outputs": [],
   "source": [
    "a = preprocessor.fit(data)"
   ]
  },
  {
   "cell_type": "code",
   "execution_count": 9,
   "id": "f6a44806-6667-4692-b396-c007411e9b8f",
   "metadata": {},
   "outputs": [
    {
     "data": {
      "text/plain": [
       "{'tr_datetime': Unitary transformation,\n",
       " 'mcc_code': Unitary transformation,\n",
       " 'tr_type': Unitary transformation,\n",
       " 'amount': Unitary transformation}"
      ]
     },
     "execution_count": 9,
     "metadata": {},
     "output_type": "execute_result"
    }
   ],
   "source": [
    "preprocessor.unitary_func"
   ]
  },
  {
   "cell_type": "code",
   "execution_count": 8,
   "id": "607494bc-418d-49a3-852b-c9da0cfabbf5",
   "metadata": {},
   "outputs": [
    {
     "name": "stdout",
     "output_type": "stream",
     "text": [
      "<class 'ptls.preprocessing.base.transformation.col_identity_transformer.ColIdentityEncoder'> tr_datetime event_time False\n",
      "<class 'ptls.preprocessing.pandas.pandas_transformation.pandas_freq_transformer.FrequencyEncoder'> mcc_code mcc_code True\n",
      "<class 'ptls.preprocessing.pandas.pandas_transformation.pandas_freq_transformer.FrequencyEncoder'> tr_type tr_type True\n",
      "<class 'ptls.preprocessing.pandas.pandas_transformation.discretizer.ColNumericDiscretizer'> amount amount_cat False\n",
      "<class 'ptls.preprocessing.base.transformation.col_identity_transformer.ColIdentityEncoder'> amount amount False\n",
      "<class 'ptls.preprocessing.base.transformation.user_group_transformer.UserGroupTransformer'> client_id client_id False\n"
     ]
    }
   ],
   "source": [
    "for ct in preprocessor._all_col_transformers:\n",
    "    print(type(ct), ct.col_name_original, ct.col_name_target, ct.is_drop_original_col)"
   ]
  },
  {
   "cell_type": "code",
   "execution_count": 11,
   "id": "1ddcf080-77c9-441c-ac4f-6e5b7c367022",
   "metadata": {},
   "outputs": [],
   "source": [
    "            cols_discretize={'amount' : ('quantile', 100)},"
   ]
  },
  {
   "cell_type": "code",
   "execution_count": 26,
   "id": "bb4b6410-84af-453a-9696-d69de6a53b2f",
   "metadata": {},
   "outputs": [],
   "source": [
    "data1 = preprocessor.transform(data)"
   ]
  },
  {
   "cell_type": "code",
   "execution_count": 27,
   "id": "ae6f4abc-aec8-4a24-9671-0bf99a5dec70",
   "metadata": {
    "scrolled": true
   },
   "outputs": [
    {
     "data": {
      "text/plain": [
       "{'client_id': 6815,\n",
       " 'tr_datetime': tensor([ 10.4528,  10.6143,  11.4328,  14.5346,  17.5233,  17.5935,  18.6078,\n",
       "          23.4900,  32.4673,  32.4973,  34.8502,  35.4594,  35.6383,  42.4708,\n",
       "          42.7398,  46.3920,  47.5355,  47.6556,  49.6137,  50.4841,  58.3817,\n",
       "          58.6357,  58.8951,  61.4243,  64.5808,  66.5862,  71.8481,  72.7893,\n",
       "          73.8133,  73.8301,  74.5201,  76.3236,  81.4415,  82.2787,  82.4238,\n",
       "          82.5306,  85.1185,  85.4103,  89.5913,  91.3930,  97.4447,  97.5341,\n",
       "         100.8626, 102.5183, 103.5447, 104.7157, 107.4329, 109.4358, 112.6071,\n",
       "         116.4056, 119.4254, 122.3550, 123.6778, 124.5905, 127.4590, 133.4434,\n",
       "         133.5902, 134.4486, 134.5856, 138.5943, 141.8663, 142.8634, 147.6518,\n",
       "         151.4581, 151.4588, 160.5321, 164.5632, 165.4446, 168.4409, 169.0594,\n",
       "         169.4997, 172.5965, 174.5953, 178.8272, 183.6073, 184.5805, 184.6087,\n",
       "         187.5728, 187.6559, 188.4778, 188.4784, 188.4861, 190.4134, 193.5000,\n",
       "         193.5095, 195.6015, 200.4167, 204.4327, 205.4389, 205.4605, 208.6168,\n",
       "         208.6575, 210.6297, 210.6300, 211.4737, 212.4093, 213.4404, 214.4366,\n",
       "         214.4459, 214.4564, 216.6073, 220.5389, 223.6413, 225.4341, 226.4544,\n",
       "         226.7035, 227.4197, 227.7906, 228.4342, 230.4385, 230.5537, 235.6087,\n",
       "         236.5861, 246.5648, 248.6668, 248.8416, 253.5831, 256.6854, 257.4284,\n",
       "         257.5628, 258.4089, 258.4558, 265.6051, 268.3967, 269.3793, 269.3803,\n",
       "         269.4010, 270.3922, 277.7143, 285.3362, 295.4559, 296.5461, 296.5461,\n",
       "         297.4394, 298.4928, 298.4975, 299.4668, 299.4789, 299.4808, 299.5029,\n",
       "         301.5966, 303.4127, 303.4197, 303.4324, 304.5971, 306.5962, 306.6502,\n",
       "         308.5921, 308.5926, 308.5982, 309.4807, 315.3911, 316.4688, 316.4934,\n",
       "         316.7674, 318.6256, 318.8484, 319.5953, 319.6064, 319.6091, 320.5935,\n",
       "         320.5974, 321.5955, 321.5959, 327.8905, 328.4654, 329.3626, 329.5537,\n",
       "         332.6431, 336.6895, 340.7074, 340.7127, 341.7528, 344.6597, 350.5826,\n",
       "         355.8156, 359.6145, 360.5894, 361.4654, 362.4761, 363.4276, 363.4403,\n",
       "         363.4474, 365.4593, 367.7112, 367.7122, 367.7134, 370.5531, 370.5533,\n",
       "         373.3950, 374.4335, 374.5623, 374.7489, 375.4209, 375.6485, 376.5819,\n",
       "         378.5166, 379.7072, 380.4016, 381.3964, 381.4323, 384.4657, 386.7702,\n",
       "         389.3953, 389.4519, 390.8189, 391.6822, 391.6851, 392.6312, 394.6396,\n",
       "         401.4291, 401.7988, 405.7567, 409.5654, 413.6403, 416.4617, 423.4230,\n",
       "         428.4987, 430.3150, 432.6393, 435.4809, 438.7122, 442.3849, 445.5254,\n",
       "         445.7566, 454.3709], dtype=torch.float64),\n",
       " 'event_time': tensor([ 10.4528,  10.6143,  11.4328,  14.5346,  17.5233,  17.5935,  18.6078,\n",
       "          23.4900,  32.4673,  32.4973,  34.8502,  35.4594,  35.6383,  42.4708,\n",
       "          42.7398,  46.3920,  47.5355,  47.6556,  49.6137,  50.4841,  58.3817,\n",
       "          58.6357,  58.8951,  61.4243,  64.5808,  66.5862,  71.8481,  72.7893,\n",
       "          73.8133,  73.8301,  74.5201,  76.3236,  81.4415,  82.2787,  82.4238,\n",
       "          82.5306,  85.1185,  85.4103,  89.5913,  91.3930,  97.4447,  97.5341,\n",
       "         100.8626, 102.5183, 103.5447, 104.7157, 107.4329, 109.4358, 112.6071,\n",
       "         116.4056, 119.4254, 122.3550, 123.6778, 124.5905, 127.4590, 133.4434,\n",
       "         133.5902, 134.4486, 134.5856, 138.5943, 141.8663, 142.8634, 147.6518,\n",
       "         151.4581, 151.4588, 160.5321, 164.5632, 165.4446, 168.4409, 169.0594,\n",
       "         169.4997, 172.5965, 174.5953, 178.8272, 183.6073, 184.5805, 184.6087,\n",
       "         187.5728, 187.6559, 188.4778, 188.4784, 188.4861, 190.4134, 193.5000,\n",
       "         193.5095, 195.6015, 200.4167, 204.4327, 205.4389, 205.4605, 208.6168,\n",
       "         208.6575, 210.6297, 210.6300, 211.4737, 212.4093, 213.4404, 214.4366,\n",
       "         214.4459, 214.4564, 216.6073, 220.5389, 223.6413, 225.4341, 226.4544,\n",
       "         226.7035, 227.4197, 227.7906, 228.4342, 230.4385, 230.5537, 235.6087,\n",
       "         236.5861, 246.5648, 248.6668, 248.8416, 253.5831, 256.6854, 257.4284,\n",
       "         257.5628, 258.4089, 258.4558, 265.6051, 268.3967, 269.3793, 269.3803,\n",
       "         269.4010, 270.3922, 277.7143, 285.3362, 295.4559, 296.5461, 296.5461,\n",
       "         297.4394, 298.4928, 298.4975, 299.4668, 299.4789, 299.4808, 299.5029,\n",
       "         301.5966, 303.4127, 303.4197, 303.4324, 304.5971, 306.5962, 306.6502,\n",
       "         308.5921, 308.5926, 308.5982, 309.4807, 315.3911, 316.4688, 316.4934,\n",
       "         316.7674, 318.6256, 318.8484, 319.5953, 319.6064, 319.6091, 320.5935,\n",
       "         320.5974, 321.5955, 321.5959, 327.8905, 328.4654, 329.3626, 329.5537,\n",
       "         332.6431, 336.6895, 340.7074, 340.7127, 341.7528, 344.6597, 350.5826,\n",
       "         355.8156, 359.6145, 360.5894, 361.4654, 362.4761, 363.4276, 363.4403,\n",
       "         363.4474, 365.4593, 367.7112, 367.7122, 367.7134, 370.5531, 370.5533,\n",
       "         373.3950, 374.4335, 374.5623, 374.7489, 375.4209, 375.6485, 376.5819,\n",
       "         378.5166, 379.7072, 380.4016, 381.3964, 381.4323, 384.4657, 386.7702,\n",
       "         389.3953, 389.4519, 390.8189, 391.6822, 391.6851, 392.6312, 394.6396,\n",
       "         401.4291, 401.7988, 405.7567, 409.5654, 413.6403, 416.4617, 423.4230,\n",
       "         428.4987, 430.3150, 432.6393, 435.4809, 438.7122, 442.3849, 445.5254,\n",
       "         445.7566, 454.3709], dtype=torch.float64),\n",
       " 'mcc_code': tensor([ 3,  3,  2,  1,  3,  1,  1,  3,  1,  1,  3,  1,  3,  3,  1,  1,  3,  3,\n",
       "          1,  1,  1,  3,  3,  1,  1,  1,  1,  3,  3,  1,  1,  1,  1,  3,  1,  3,\n",
       "          3,  3,  3,  3,  1,  1,  3,  3,  3,  3,  1,  1,  1,  3,  1,  1,  3,  1,\n",
       "          3,  1,  1,  3,  1,  1,  3,  1,  3,  3,  3,  1,  1,  3,  1,  3,  1,  1,\n",
       "          1,  1,  1,  3,  4,  3, 14,  1,  1,  3,  1,  3,  1,  1,  3, 14,  3,  3,\n",
       "          3,  1,  4,  1, 14,  4,  1,  4,  4, 14, 14,  3,  1, 14, 14,  3,  1,  3,\n",
       "         14, 14,  1,  3,  3,  4,  1,  3,  3,  3,  4,  1,  1,  4,  3,  1,  3,  3,\n",
       "          3,  1,  3,  3,  4, 14,  1, 14,  1, 14,  1,  3, 14,  3, 14,  1,  4, 14,\n",
       "          4,  1, 14,  4,  4,  1,  3,  1,  3, 14,  3, 14,  3, 12,  4,  4,  1, 14,\n",
       "          4,  4,  3, 14,  3, 14,  3,  1,  1, 12,  3,  3,  3,  3,  4,  4, 14,  4,\n",
       "          4,  1, 14, 14,  1,  1,  1,  3,  3,  3,  3,  3,  4, 14,  4,  1, 14,  4,\n",
       "         14,  4, 14,  4,  3,  1,  4, 14,  4,  1,  3,  1,  3,  3,  3,  3,  3,  3,\n",
       "          3,  3,  3,  3,  4,  3,  3,  3,  3,  3]),\n",
       " 'tr_type': tensor([ 3,  3, 16,  2,  3,  2,  2,  3,  2,  2,  3,  2,  3,  3,  2,  2,  3,  3,\n",
       "          2,  2,  2,  3,  3,  2,  2,  2,  2,  3,  3,  2,  2,  2,  2,  3,  2,  3,\n",
       "          3,  3,  3,  3,  2,  2,  3,  3,  3,  3,  2,  2,  2,  3,  2,  2,  3,  2,\n",
       "          3,  2,  2,  3,  2,  2,  3,  2,  3,  3,  3,  2,  2,  3,  2,  3,  2,  2,\n",
       "          2,  2,  2,  3,  4,  3,  1,  2,  7,  3,  7,  3,  2,  2,  3,  1,  3,  3,\n",
       "          3,  2,  4,  2,  1,  1,  2,  1,  4,  1,  1,  3,  7,  1,  1,  3,  2,  3,\n",
       "          1,  1,  2,  3,  3,  4,  7,  3,  3,  3,  4,  2,  2,  4,  3,  2,  3,  3,\n",
       "          3,  2,  3,  3,  4,  1,  2,  1,  2,  1,  2,  3,  1,  3,  1,  2,  1,  1,\n",
       "          4,  2,  1,  1,  1,  2,  3,  2,  3,  1,  3,  1,  3,  1,  4,  1,  2,  1,\n",
       "          1,  1,  3,  1,  3,  1,  3,  2,  7,  1,  3,  3,  3,  3,  4,  4,  1,  1,\n",
       "          1,  2,  1,  1,  2,  2,  2,  3,  3,  3,  3,  3,  1,  1,  4,  2,  1,  4,\n",
       "          1,  4,  1,  4,  3,  2,  4,  1,  4,  2,  3,  2,  3,  3,  3,  3,  3,  3,\n",
       "          3,  3,  3,  3,  4,  3,  3,  3,  3,  3]),\n",
       " 'amount': tensor([-2.2459e+03, -2.2459e+03,  2.4705e+06, -1.1230e+04, -2.2459e+03,\n",
       "         -4.4918e+04, -4.4918e+04, -2.2459e+03, -2.2459e+04, -2.2459e+04,\n",
       "         -2.2459e+03, -1.1230e+04, -2.2459e+03, -2.2459e+03, -2.2459e+04,\n",
       "         -2.2459e+04, -2.2459e+03, -2.2459e+03, -4.4918e+04, -2.2459e+04,\n",
       "         -2.2459e+04, -2.2459e+03, -2.2459e+03, -4.4918e+04, -2.2459e+04,\n",
       "         -4.4918e+04, -6.7377e+04, -2.2459e+03, -2.2459e+03, -2.2459e+04,\n",
       "         -2.2459e+04, -6.7377e+04, -2.2459e+04, -2.2459e+03, -4.4918e+04,\n",
       "         -2.2459e+03, -2.2459e+03, -2.2459e+03, -2.2459e+03, -2.2459e+03,\n",
       "         -8.9837e+04, -2.2459e+04, -2.2459e+03, -2.2459e+03, -2.2459e+03,\n",
       "         -2.2459e+03, -4.4918e+04, -6.7377e+04, -4.4918e+04, -2.2459e+03,\n",
       "         -6.7377e+04, -1.1230e+05, -2.2459e+03, -4.4918e+04, -2.2459e+03,\n",
       "         -2.2459e+04, -6.7377e+04, -2.2459e+03, -6.7377e+04, -4.4918e+04,\n",
       "         -2.2459e+03, -2.2459e+04, -2.2459e+03, -6.7378e+03, -6.7378e+03,\n",
       "         -6.7377e+04, -2.2459e+04, -2.2459e+03, -6.7377e+04, -2.2459e+03,\n",
       "         -4.4918e+04, -4.4918e+04, -2.2459e+04, -2.2459e+04, -2.2459e+04,\n",
       "         -2.2459e+03, -1.2236e+04, -2.2459e+03, -5.8955e+03, -2.2459e+04,\n",
       "          2.2459e+02, -2.2460e+01,  1.1230e+05, -2.2459e+03, -2.2459e+04,\n",
       "         -2.2459e+04, -2.2459e+03, -5.4127e+03, -2.2459e+03, -2.2459e+03,\n",
       "         -2.2459e+03, -4.4918e+04, -1.3090e+04, -1.1230e+04, -8.0208e+03,\n",
       "         -6.2212e+03, -1.1230e+04, -1.1454e+03, -4.1055e+03, -7.1299e+03,\n",
       "         -7.4542e+03, -2.2459e+03,  4.4918e+04, -1.0072e+04, -1.1486e+04,\n",
       "         -2.2459e+03, -2.2459e+04, -2.2459e+03, -9.3947e+03, -4.8440e+03,\n",
       "         -2.2459e+04, -2.2459e+03, -2.2459e+03, -1.4188e+04,  5.6148e+04,\n",
       "         -2.2459e+03, -2.2459e+03, -2.2459e+03, -4.0134e+03, -1.1230e+05,\n",
       "         -6.7377e+04, -3.3262e+03, -2.2459e+03, -4.4918e+04, -2.2459e+03,\n",
       "         -2.2459e+04, -2.2459e+03, -2.2459e+04, -2.2459e+03, -2.2459e+03,\n",
       "         -1.3234e+04, -1.2513e+04, -1.1230e+04, -5.6211e+03, -2.2459e+04,\n",
       "         -7.2530e+03, -1.1230e+04, -2.2459e+03, -2.4188e+03, -2.2459e+03,\n",
       "         -1.7922e+03, -8.9837e+04, -3.2341e+03, -1.8190e+04, -1.8867e+04,\n",
       "         -6.7377e+04, -6.6052e+03, -2.1146e+04, -4.6199e+03, -4.4918e+04,\n",
       "         -2.2459e+03, -6.7377e+04, -2.2459e+04, -1.6702e+04, -2.2459e+03,\n",
       "         -1.4603e+04, -2.2459e+03, -1.2128e+04, -1.0400e+04, -1.4598e+03,\n",
       "         -2.2459e+04, -4.0606e+03, -4.4694e+03, -2.3596e+03, -2.2459e+03,\n",
       "         -6.7317e+03, -2.2459e+03, -2.9197e+03, -2.2459e+03, -1.1230e+04,\n",
       "          2.2459e+04, -1.2802e+04, -2.2459e+03, -2.2459e+03, -2.2459e+03,\n",
       "         -2.2459e+03, -5.6754e+03, -1.1779e+04, -4.5165e+03, -2.6030e+03,\n",
       "         -6.5336e+03, -4.4918e+04, -9.0039e+03, -1.0686e+04, -2.2459e+05,\n",
       "         -2.2459e+05, -1.1230e+05, -1.1230e+03, -1.1230e+03, -2.2459e+03,\n",
       "         -2.2459e+03, -2.2459e+03, -7.5923e+03, -1.6014e+04, -8.7141e+03,\n",
       "         -1.1230e+04, -5.3089e+03, -1.2508e+04, -2.4638e+03, -3.5261e+03,\n",
       "         -7.3340e+03, -9.2082e+03, -2.2459e+03, -4.4918e+04, -9.2981e+03,\n",
       "         -9.5833e+03, -1.1778e+04, -4.4918e+04, -2.2459e+03, -4.4918e+04,\n",
       "         -2.2459e+03, -6.7378e+03, -2.2459e+03, -2.2459e+03, -2.2459e+03,\n",
       "         -2.2460e+01, -2.2459e+03, -2.2459e+03, -2.2459e+03, -2.2459e+03,\n",
       "         -8.7141e+03, -2.2459e+03, -2.2459e+03, -2.2459e+03, -2.2459e+03,\n",
       "         -2.2459e+03], dtype=torch.float64),\n",
       " 'amount_cat': tensor([ 1,  1, 30,  1,  1,  1,  1,  1,  1,  1,  1,  1,  1,  1,  1,  1,  1,  1,\n",
       "          1,  1,  1,  1,  1,  1,  1,  1,  1,  1,  1,  1,  1,  1,  1,  1,  1,  1,\n",
       "          1,  1,  1,  1,  2,  1,  1,  1,  1,  1,  1,  1,  1,  1,  1,  2,  1,  1,\n",
       "          1,  1,  1,  1,  1,  1,  1,  1,  1,  1,  1,  1,  1,  1,  1,  1,  1,  1,\n",
       "          1,  1,  1,  1,  1,  1,  1,  1,  1,  1,  3,  1,  1,  1,  1,  1,  1,  1,\n",
       "          1,  1,  1,  1,  1,  1,  1,  1,  1,  1,  1,  1,  3,  1,  1,  1,  1,  1,\n",
       "          1,  1,  1,  1,  1,  1,  3,  1,  1,  1,  1,  2,  1,  1,  1,  1,  1,  1,\n",
       "          1,  1,  1,  1,  1,  1,  1,  1,  1,  1,  1,  1,  1,  1,  1,  2,  1,  1,\n",
       "          1,  1,  1,  1,  1,  1,  1,  1,  1,  1,  1,  1,  1,  1,  1,  1,  1,  1,\n",
       "          1,  1,  1,  1,  1,  1,  1,  1,  1,  1,  1,  1,  1,  1,  1,  1,  1,  1,\n",
       "          1,  1,  1,  1,  2,  2,  2,  1,  1,  1,  1,  1,  1,  1,  1,  1,  1,  1,\n",
       "          1,  1,  1,  1,  1,  1,  1,  1,  1,  1,  1,  1,  1,  1,  1,  1,  1,  1,\n",
       "          1,  1,  1,  1,  1,  1,  1,  1,  1,  1])}"
      ]
     },
     "execution_count": 27,
     "metadata": {},
     "output_type": "execute_result"
    }
   ],
   "source": [
    "data1[0]"
   ]
  },
  {
   "cell_type": "code",
   "execution_count": 34,
   "id": "6d50aa7a-9079-46c0-bbab-07bdae75313d",
   "metadata": {},
   "outputs": [],
   "source": [
    "def test_add_replace_col():\n",
    "    np.random.seed(42)\n",
    "    num_rows = 1000\n",
    "    df = pd.DataFrame({\n",
    "        'id': np.random.randint(1, 4, size=num_rows),\n",
    "        'event_dt': np.random.randint(1, 100, size=num_rows),\n",
    "        'num_value': np.random.normal(loc=0, scale=100, size=num_rows)\n",
    "    })\n",
    "\n",
    "    n_bins_discr = 10\n",
    "    discr_type = 'quantile'\n",
    "    preprocessor =  PandasDataPreprocessor(\n",
    "            col_id='id',\n",
    "            col_event_time='event_dt',\n",
    "            event_time_transformation='none',\n",
    "            category_transformation = 'none',\n",
    "            cols_discretize={'num_value' : (discr_type,  n_bins_discr)},\n",
    "            cols_numerical=['num_value'],\n",
    "            return_records=True,\n",
    "        )\n",
    "    processed = preprocessor.fit_transform(df)\n",
    "\n",
    "    assert 'num_value' in processed[0], f\"Original numeric expected in preprocessed data but not found\"\n",
    "    assert 'num_value_cat' in processed[0], f\"Discretized column 'num_value_cat' expected in preprocessed data but not found\"\n",
    "\n",
    "    preprocessor =  PandasDataPreprocessor(\n",
    "            col_id='id',\n",
    "            col_event_time='event_dt',\n",
    "            event_time_transformation='none',\n",
    "            category_transformation = 'none',\n",
    "            cols_discretize={'num_value' : (discr_type,  n_bins_discr)},\n",
    "            return_records=True,\n",
    "        )\n",
    "    processed = preprocessor.fit_transform(df)\n",
    "\n",
    "    assert 'num_value' not in processed[0], f\"Original numeric not expected in preprocessed data but found\"\n",
    "    assert 'num_value_cat' in processed[0], f\"Discretized column expected in preprocessed data but not found\""
   ]
  },
  {
   "cell_type": "code",
   "execution_count": 35,
   "id": "7af5e6e2-94da-46e6-b680-4a66a45101c4",
   "metadata": {},
   "outputs": [
    {
     "name": "stdout",
     "output_type": "stream",
     "text": [
      "Creating Dask Server\n",
      "Link Dask Server - http://172.19.0.1:59004/status\n"
     ]
    },
    {
     "name": "stderr",
     "output_type": "stream",
     "text": [
      "C:\\Users\\toppc\\.conda\\envs\\ptls-fork\\lib\\site-packages\\distributed\\node.py:187: UserWarning: Port 8787 is already in use.\n",
      "Perhaps you already have a cluster running?\n",
      "Hosting the HTTP server on port 59004 instead\n",
      "  warnings.warn(\n",
      "C:\\Users\\toppc\\Documents\\diploma\\pytorch-lifestream\\ptls\\preprocessing\\pandas\\pandas_transformation\\category_identity_encoder.py:67: UserWarning: 0 values fount in num_value_cat. 0 is a padding index\n",
      "  warnings.warn(\n"
     ]
    },
    {
     "name": "stdout",
     "output_type": "stream",
     "text": [
      "Creating Dask Server\n"
     ]
    },
    {
     "name": "stderr",
     "output_type": "stream",
     "text": [
      "C:\\Users\\toppc\\.conda\\envs\\ptls-fork\\lib\\site-packages\\distributed\\node.py:187: UserWarning: Port 8787 is already in use.\n",
      "Perhaps you already have a cluster running?\n",
      "Hosting the HTTP server on port 59011 instead\n",
      "  warnings.warn(\n"
     ]
    },
    {
     "name": "stdout",
     "output_type": "stream",
     "text": [
      "Link Dask Server - http://172.19.0.1:59011/status\n"
     ]
    },
    {
     "name": "stderr",
     "output_type": "stream",
     "text": [
      "C:\\Users\\toppc\\Documents\\diploma\\pytorch-lifestream\\ptls\\preprocessing\\pandas\\pandas_transformation\\category_identity_encoder.py:67: UserWarning: 0 values fount in num_value_cat. 0 is a padding index\n",
      "  warnings.warn(\n"
     ]
    }
   ],
   "source": [
    "test_add_replace_col()"
   ]
  },
  {
   "cell_type": "code",
   "execution_count": 23,
   "id": "88d71919-f839-4b4a-bf42-7d51657d36e7",
   "metadata": {},
   "outputs": [],
   "source": [
    "def test_quantile():\n",
    "    np.random.seed(42)\n",
    "    num_rows = 10000\n",
    "    df = pd.DataFrame({\n",
    "        'id': np.random.randint(1, 4, size=num_rows),\n",
    "        'event_dt': np.random.randint(1, 100, size=num_rows),\n",
    "        'num_value': np.random.normal(loc=0, scale=100, size=num_rows)\n",
    "    })\n",
    "\n",
    "    n_bins_discr = 100\n",
    "    preprocessor =  PandasDataPreprocessor(\n",
    "            col_id='id',\n",
    "            col_event_time='event_dt',\n",
    "            event_time_transformation='none',\n",
    "            category_transformation = 'none',\n",
    "            cols_discretize={'num_value' : ('kmeans',  n_bins_discr)},\n",
    "            return_records=True,\n",
    "        )\n",
    "    processed = preprocessor.fit_transform(df)\n",
    "    preproc_cats = torch.cat([x['num_value_cat'] for x in processed]).numpy()\n",
    "\n",
    "    kbins = KBinsDiscretizer(n_bins=n_bins_discr, encode='ordinal', strategy='kmeans')\n",
    "    sklearn_cats = kbins.fit_transform(df[['num_value']]).astype(int).flatten()\n",
    "\n",
    "    preproc_counts = np.bincount(preproc_cats, minlength=n_bins_discr)\n",
    "    sklearn_counts = np.bincount(sklearn_cats, minlength=n_bins_discr)\n",
    "\n",
    "    stat, p_value = chisquare(f_obs=preproc_counts, f_exp=sklearn_counts)\n",
    "    print(f\"Chi-square p-value: {p_value:.5f}\")\n",
    "\n",
    "    assert p_value > 0.05, f\"Distributions differ significantly (p={p_value:.5f})\""
   ]
  },
  {
   "cell_type": "code",
   "execution_count": 24,
   "id": "30bf717f-2a2d-46aa-a796-fb78d3f5e3a6",
   "metadata": {},
   "outputs": [
    {
     "name": "stdout",
     "output_type": "stream",
     "text": [
      "Creating Dask Server\n",
      "Link Dask Server - http://172.19.0.1:58808/status\n"
     ]
    },
    {
     "name": "stderr",
     "output_type": "stream",
     "text": [
      "C:\\Users\\toppc\\.conda\\envs\\ptls-fork\\lib\\site-packages\\distributed\\node.py:187: UserWarning: Port 8787 is already in use.\n",
      "Perhaps you already have a cluster running?\n",
      "Hosting the HTTP server on port 58808 instead\n",
      "  warnings.warn(\n"
     ]
    },
    {
     "name": "stdout",
     "output_type": "stream",
     "text": [
      "Chi-square p-value: 1.00000\n"
     ]
    },
    {
     "name": "stderr",
     "output_type": "stream",
     "text": [
      "C:\\Users\\toppc\\Documents\\diploma\\pytorch-lifestream\\ptls\\preprocessing\\pandas\\pandas_transformation\\category_identity_encoder.py:67: UserWarning: 0 values fount in num_value_cat. 0 is a padding index\n",
      "  warnings.warn(\n"
     ]
    }
   ],
   "source": [
    "test_quantile()"
   ]
  },
  {
   "cell_type": "code",
   "execution_count": null,
   "id": "7eaee97b-b1fb-4b72-a453-d0c86f3a0ba2",
   "metadata": {},
   "outputs": [],
   "source": []
  }
 ],
 "metadata": {
  "kernelspec": {
   "display_name": "Python 3 (ipykernel)",
   "language": "python",
   "name": "python3"
  },
  "language_info": {
   "codemirror_mode": {
    "name": "ipython",
    "version": 3
   },
   "file_extension": ".py",
   "mimetype": "text/x-python",
   "name": "python",
   "nbconvert_exporter": "python",
   "pygments_lexer": "ipython3",
   "version": "3.10.18"
  }
 },
 "nbformat": 4,
 "nbformat_minor": 5
}
