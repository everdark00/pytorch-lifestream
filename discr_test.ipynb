{
 "cells": [
  {
   "cell_type": "code",
   "execution_count": 1,
   "id": "ae7e045b-dae2-4aa9-b37d-36a1519036d1",
   "metadata": {},
   "outputs": [
    {
     "name": "stderr",
     "output_type": "stream",
     "text": [
      "25/06/16 23:15:20 WARN Utils: Your hostname, everdark-Zenbook-UX3402VA-UX3402VA resolves to a loopback address: 127.0.1.1; using 192.168.1.90 instead (on interface wlo1)\n",
      "25/06/16 23:15:20 WARN Utils: Set SPARK_LOCAL_IP if you need to bind to another address\n",
      "Setting default log level to \"WARN\".\n",
      "To adjust logging level use sc.setLogLevel(newLevel). For SparkR, use setLogLevel(newLevel).\n",
      "25/06/16 23:15:21 WARN NativeCodeLoader: Unable to load native-hadoop library for your platform... using builtin-java classes where applicable\n"
     ]
    }
   ],
   "source": [
    "import ptls\n",
    "import pandas as pd\n",
    "import os\n",
    "from ptls.preprocessing import PandasDataPreprocessor\n",
    "from ptls.preprocessing import PysparkDataPreprocessor\n",
    "import numpy as np\n",
    "import torch\n",
    "from sklearn.preprocessing import KBinsDiscretizer\n",
    "from scipy.stats import chisquare\n",
    "import pyspark\n",
    "import pyspark.sql.functions as F\n",
    "import pyspark.sql.types as T\n",
    "from pyspark.sql import SparkSession\n",
    "\n",
    "\n",
    "spark = SparkSession.builder.getOrCreate()"
   ]
  },
  {
   "cell_type": "code",
   "execution_count": 2,
   "id": "9c2918f1-2aff-4e9b-ba6f-9ca416f8203c",
   "metadata": {},
   "outputs": [],
   "source": [
    "data = spark.read.option(\"escape\", \"\\\"\").csv(\"../data/gender/transactions.csv\", header=True)\n",
    "data = data.drop('_c0', 'term_id').withColumn('amount', F.col('amount').cast('float'))"
   ]
  },
  {
   "cell_type": "code",
   "execution_count": 12,
   "id": "ccde0a06-e202-432c-9920-f6cf167402f9",
   "metadata": {},
   "outputs": [
    {
     "data": {
      "text/plain": [
       "DataFrame[customer_id: string, tr_datetime: string, mcc_code: string, tr_type: string, amount: float]"
      ]
     },
     "execution_count": 12,
     "metadata": {},
     "output_type": "execute_result"
    }
   ],
   "source": [
    "data"
   ]
  },
  {
   "cell_type": "code",
   "execution_count": 2,
   "id": "2842e5ef-a1ab-4cfe-a7b3-20c8cce2407d",
   "metadata": {},
   "outputs": [],
   "source": [
    "def prepare_data_gender_scenario():\n",
    "    data_path = '../data/gender'\n",
    "\n",
    "    source_data = pd.read_csv(os.path.join(data_path, 'transactions.csv'))\n",
    "    source_data = source_data.drop(columns=[\"term_id\"]).rename(columns={'customer_id' : 'client_id'})\n",
    "    if 'Unnamed: 0' in source_data.columns:\n",
    "        source_data = source_data.drop(columns=['Unnamed: 0'])\n",
    "\n",
    "    source_data['time'] = [i.split()[1] for i in source_data.tr_datetime.values]\n",
    "\n",
    "    padded_time = source_data['tr_datetime'].str.pad(15, 'left', '0')\n",
    "    day_part = padded_time.str[:6].astype(float)\n",
    "    time_part = pd.to_datetime(padded_time.str[7:], format='%H:%M:%S').values.astype('int64') // 1e9\n",
    "    time_part = time_part % (24 * 60 * 60) / (24 * 60 * 60)\n",
    "    \n",
    "    source_data.tr_datetime = day_part + time_part\n",
    "\n",
    "    df_params = {\n",
    "        \"numeric_cols\" : [\"amount\"],\n",
    "        \"cat_cols\" : [\"mcc_code\", \"tr_type\"],\n",
    "        \"cat_unique\" : [],\n",
    "        \"order_col\" : \"tr_datetime\",\n",
    "        \"time_col\": \"time\",\n",
    "        \"text_cols\" : ['description'],\n",
    "        \"id_col\" : \"client_id\",\n",
    "        \"target\" : \"gender\"\n",
    "    }\n",
    "\n",
    "    for f in df_params[\"cat_cols\"]:\n",
    "        df_params[\"cat_unique\"].append(source_data[f].unique().shape[0])\n",
    "\n",
    "    targets = pd.read_csv(os.path.join('../data/gender', 'gender_train.csv')).rename(columns={'customer_id' : 'client_id'})\n",
    "    targets = source_data[['client_id']].drop_duplicates().merge(targets, on='client_id', how='left').dropna() \n",
    "    \n",
    "    return source_data, targets, df_params"
   ]
  },
  {
   "cell_type": "code",
   "execution_count": 3,
   "id": "ef7989e4-9358-4f48-9f73-9c38afe9b8f3",
   "metadata": {},
   "outputs": [],
   "source": [
    "data, targets, df_params = prepare_data_gender_scenario()"
   ]
  },
  {
   "cell_type": "code",
   "execution_count": 24,
   "id": "719ff16e-9281-45d4-80c0-013f4aa755e0",
   "metadata": {},
   "outputs": [
    {
     "name": "stdout",
     "output_type": "stream",
     "text": [
      "Creating Dask Server\n",
      "Link Dask Server - http://172.19.0.1:57904/status\n"
     ]
    },
    {
     "name": "stderr",
     "output_type": "stream",
     "text": [
      "C:\\Users\\toppc\\.conda\\envs\\ptls-fork\\lib\\site-packages\\distributed\\node.py:187: UserWarning: Port 8787 is already in use.\n",
      "Perhaps you already have a cluster running?\n",
      "Hosting the HTTP server on port 57904 instead\n",
      "  warnings.warn(\n"
     ]
    }
   ],
   "source": [
    "preprocessor = PandasDataPreprocessor(\n",
    "            col_id=df_params['id_col'],\n",
    "            col_event_time=df_params['order_col'],\n",
    "            event_time_transformation='none',\n",
    "            category_transformation = 'frequency',\n",
    "            cols_category=df_params['cat_cols'],\n",
    "            cols_discretize={'amount' : ('kmeans', 100)},\n",
    "            cols_numerical=['amount'],\n",
    "            return_records=True,\n",
    "        )"
   ]
  },
  {
   "cell_type": "code",
   "execution_count": 3,
   "id": "7f4c49aa-3cbb-42d3-9c0f-7bf79cccd23c",
   "metadata": {},
   "outputs": [
    {
     "name": "stdout",
     "output_type": "stream",
     "text": [
      "Creating Dask Server\n",
      "Link Dask Server - http://172.20.10.8:8787/status\n"
     ]
    }
   ],
   "source": [
    "preprocessor = PysparkDataPreprocessor(\n",
    "            col_id='customer_id',\n",
    "            col_event_time='tr_datetime',\n",
    "            event_time_transformation='none',\n",
    "            category_transformation = 'frequency',\n",
    "            cols_discretize={'amount' : ('kmeans', 100)},\n",
    "            cols_numerical=['amount'],\n",
    "        )"
   ]
  },
  {
   "cell_type": "code",
   "execution_count": 4,
   "id": "1eba3425-d5e7-40ce-b69f-429eb1f30841",
   "metadata": {
    "collapsed": true,
    "jupyter": {
     "outputs_hidden": true
    }
   },
   "outputs": [
    {
     "name": "stderr",
     "output_type": "stream",
     "text": [
      "25/06/16 14:43:29 WARN MemoryStore: Not enough space to cache rdd_34_8 in memory! (computed 18.4 MiB so far)\n",
      "25/06/16 14:43:29 WARN BlockManager: Persisting block rdd_34_8 to disk instead.\n",
      "25/06/16 14:43:29 WARN MemoryStore: Not enough space to cache rdd_34_1 in memory! (computed 18.4 MiB so far)\n",
      "25/06/16 14:43:29 WARN BlockManager: Persisting block rdd_34_1 to disk instead.\n",
      "25/06/16 14:43:29 WARN MemoryStore: Not enough space to cache rdd_34_5 in memory! (computed 18.4 MiB so far)\n",
      "25/06/16 14:43:29 WARN BlockManager: Persisting block rdd_34_5 to disk instead.\n",
      "25/06/16 14:43:29 WARN MemoryStore: Not enough space to cache rdd_34_13 in memory! (computed 18.4 MiB so far)\n",
      "25/06/16 14:43:29 WARN BlockManager: Persisting block rdd_34_13 to disk instead.\n",
      "25/06/16 14:43:29 WARN MemoryStore: Not enough space to cache rdd_34_2 in memory! (computed 18.4 MiB so far)\n",
      "25/06/16 14:43:29 WARN BlockManager: Persisting block rdd_34_2 to disk instead.\n",
      "25/06/16 14:43:29 WARN MemoryStore: Not enough space to cache rdd_34_0 in memory! (computed 18.4 MiB so far)\n",
      "25/06/16 14:43:29 WARN BlockManager: Persisting block rdd_34_0 to disk instead.\n",
      "25/06/16 14:43:30 WARN MemoryStore: Not enough space to cache rdd_34_11 in memory! (computed 18.4 MiB so far)\n",
      "25/06/16 14:43:30 WARN BlockManager: Persisting block rdd_34_11 to disk instead.\n",
      "25/06/16 14:43:30 WARN MemoryStore: Not enough space to cache rdd_34_4 in memory! (computed 18.4 MiB so far)\n",
      "25/06/16 14:43:30 WARN BlockManager: Persisting block rdd_34_4 to disk instead.\n",
      "25/06/16 14:43:30 WARN MemoryStore: Not enough space to cache rdd_34_7 in memory! (computed 18.4 MiB so far)\n",
      "25/06/16 14:43:30 WARN BlockManager: Persisting block rdd_34_7 to disk instead.\n",
      "25/06/16 14:43:32 WARN MemoryStore: Not enough space to cache rdd_34_2 in memory! (computed 18.4 MiB so far)\n",
      "25/06/16 14:43:33 WARN MemoryStore: Not enough space to cache rdd_34_8 in memory! (computed 3.4 MiB so far)\n",
      "25/06/16 14:43:33 WARN MemoryStore: Not enough space to cache rdd_34_4 in memory! (computed 18.4 MiB so far)\n",
      "25/06/16 14:43:33 WARN MemoryStore: Not enough space to cache rdd_34_0 in memory! (computed 8.2 MiB so far)\n",
      "25/06/16 14:43:33 WARN MemoryStore: Not enough space to cache rdd_34_1 in memory! (computed 27.6 MiB so far)\n",
      "25/06/16 14:43:33 WARN MemoryStore: Not enough space to cache rdd_34_1 in memory! (computed 5.4 MiB so far)\n",
      "25/06/16 14:43:33 WARN MemoryStore: Not enough space to cache rdd_34_2 in memory! (computed 3.4 MiB so far)\n",
      "25/06/16 14:43:33 WARN MemoryStore: Not enough space to cache rdd_34_8 in memory! (computed 8.2 MiB so far)\n",
      "25/06/16 14:43:33 WARN MemoryStore: Not enough space to cache rdd_34_0 in memory! (computed 8.2 MiB so far)\n",
      "25/06/16 14:43:33 WARN MemoryStore: Not enough space to cache rdd_34_4 in memory! (computed 27.6 MiB so far)\n",
      "25/06/16 14:43:33 WARN MemoryStore: Not enough space to cache rdd_38_3 in memory! (computed 1024.2 KiB so far)\n",
      "25/06/16 14:43:33 WARN MemoryStore: Not enough space to cache rdd_34_4 in memory! (computed 2.3 MiB so far)\n",
      "25/06/16 14:43:33 WARN MemoryStore: Not enough space to cache rdd_38_7 in memory! (computed 1024.2 KiB so far)\n",
      "25/06/16 14:43:33 WARN MemoryStore: Not enough space to cache rdd_34_1 in memory! (computed 3.4 MiB so far)\n",
      "25/06/16 14:43:33 WARN MemoryStore: Not enough space to cache rdd_38_12 in memory! (computed 1024.2 KiB so far)\n",
      "25/06/16 14:43:33 WARN MemoryStore: Not enough space to cache rdd_38_11 in memory! (computed 1024.2 KiB so far)\n",
      "25/06/16 14:43:33 WARN MemoryStore: Not enough space to cache rdd_38_14 in memory! (computed 1024.2 KiB so far)\n",
      "25/06/16 14:43:33 WARN MemoryStore: Not enough space to cache rdd_34_8 in memory! (computed 1536.9 KiB so far)\n",
      "25/06/16 14:43:33 WARN MemoryStore: Not enough space to cache rdd_38_15 in memory! (computed 2.0 MiB so far)\n",
      "25/06/16 14:43:33 WARN MemoryStore: Not enough space to cache rdd_38_10 in memory! (computed 4.0 MiB so far)\n",
      "25/06/16 14:43:33 WARN MemoryStore: Not enough space to cache rdd_38_13 in memory! (computed 2.0 MiB so far)\n",
      "25/06/16 14:43:33 WARN MemoryStore: Not enough space to cache rdd_34_0 in memory! (computed 2.3 MiB so far)\n",
      "25/06/16 14:43:33 WARN MemoryStore: Not enough space to cache rdd_38_6 in memory! (computed 1024.2 KiB so far)\n",
      "25/06/16 14:43:33 WARN MemoryStore: Not enough space to cache rdd_38_9 in memory! (computed 2.0 MiB so far)\n",
      "25/06/16 14:43:33 WARN BlockManager: Persisting block rdd_38_11 to disk instead.\n",
      "25/06/16 14:43:33 WARN BlockManager: Persisting block rdd_38_3 to disk instead.\n",
      "25/06/16 14:43:33 WARN BlockManager: Persisting block rdd_38_10 to disk instead.\n",
      "25/06/16 14:43:33 WARN BlockManager: Persisting block rdd_38_14 to disk instead.\n",
      "25/06/16 14:43:33 WARN BlockManager: Persisting block rdd_38_12 to disk instead.\n",
      "25/06/16 14:43:33 WARN BlockManager: Persisting block rdd_38_15 to disk instead.\n",
      "25/06/16 14:43:33 WARN BlockManager: Persisting block rdd_38_9 to disk instead.\n",
      "25/06/16 14:43:33 WARN MemoryStore: Not enough space to cache rdd_38_5 in memory! (computed 2.0 MiB so far)\n",
      "25/06/16 14:43:33 WARN BlockManager: Persisting block rdd_38_13 to disk instead.\n",
      "25/06/16 14:43:33 WARN BlockManager: Persisting block rdd_38_7 to disk instead.\n",
      "25/06/16 14:43:33 WARN MemoryStore: Failed to reserve initial memory threshold of 1024.0 KiB for computing block rdd_34_1 in memory.\n",
      "25/06/16 14:43:33 WARN MemoryStore: Not enough space to cache rdd_34_2 in memory! (computed 3.4 MiB so far)\n",
      "25/06/16 14:43:33 WARN MemoryStore: Not enough space to cache rdd_34_1 in memory! (computed 384.0 B so far)\n",
      "25/06/16 14:43:33 WARN BlockManager: Persisting block rdd_38_5 to disk instead.\n",
      "25/06/16 14:43:33 WARN MemoryStore: Failed to reserve initial memory threshold of 1024.0 KiB for computing block rdd_34_8 in memory.\n",
      "25/06/16 14:43:33 WARN MemoryStore: Not enough space to cache rdd_34_8 in memory! (computed 384.0 B so far)\n",
      "25/06/16 14:43:33 WARN MemoryStore: Failed to reserve initial memory threshold of 1024.0 KiB for computing block rdd_34_0 in memory.\n",
      "25/06/16 14:43:33 WARN BlockManager: Persisting block rdd_38_6 to disk instead.\n",
      "25/06/16 14:43:33 WARN MemoryStore: Not enough space to cache rdd_34_0 in memory! (computed 384.0 B so far)\n",
      "25/06/16 14:43:33 WARN MemoryStore: Failed to reserve initial memory threshold of 1024.0 KiB for computing block rdd_34_2 in memory.\n",
      "25/06/16 14:43:33 WARN MemoryStore: Failed to reserve initial memory threshold of 1024.0 KiB for computing block rdd_34_4 in memory.\n",
      "25/06/16 14:43:33 WARN MemoryStore: Not enough space to cache rdd_34_2 in memory! (computed 384.0 B so far)\n",
      "25/06/16 14:43:33 WARN MemoryStore: Not enough space to cache rdd_34_4 in memory! (computed 384.0 B so far)\n",
      "25/06/16 14:43:33 WARN MemoryStore: Failed to reserve initial memory threshold of 1024.0 KiB for computing block rdd_38_8 in memory.\n",
      "25/06/16 14:43:33 WARN MemoryStore: Not enough space to cache rdd_38_8 in memory! (computed 640.0 B so far)\n",
      "25/06/16 14:43:33 WARN BlockManager: Persisting block rdd_38_8 to disk instead.\n",
      "25/06/16 14:43:33 WARN MemoryStore: Failed to reserve initial memory threshold of 1024.0 KiB for computing block rdd_38_1 in memory.\n",
      "25/06/16 14:43:33 WARN MemoryStore: Not enough space to cache rdd_38_1 in memory! (computed 640.0 B so far)\n",
      "25/06/16 14:43:33 WARN MemoryStore: Failed to reserve initial memory threshold of 1024.0 KiB for computing block rdd_38_4 in memory.\n",
      "25/06/16 14:43:33 WARN MemoryStore: Not enough space to cache rdd_38_4 in memory! (computed 640.0 B so far)\n",
      "25/06/16 14:43:33 WARN MemoryStore: Failed to reserve initial memory threshold of 1024.0 KiB for computing block rdd_38_0 in memory.\n",
      "25/06/16 14:43:33 WARN MemoryStore: Not enough space to cache rdd_38_0 in memory! (computed 640.0 B so far)\n",
      "25/06/16 14:43:33 WARN BlockManager: Persisting block rdd_38_1 to disk instead.\n",
      "25/06/16 14:43:33 WARN BlockManager: Persisting block rdd_38_0 to disk instead.\n",
      "25/06/16 14:43:33 WARN BlockManager: Persisting block rdd_38_4 to disk instead.\n",
      "25/06/16 14:43:33 WARN MemoryStore: Failed to reserve initial memory threshold of 1024.0 KiB for computing block rdd_38_2 in memory.\n",
      "25/06/16 14:43:33 WARN MemoryStore: Not enough space to cache rdd_38_2 in memory! (computed 640.0 B so far)\n",
      "25/06/16 14:43:33 WARN BlockManager: Persisting block rdd_38_2 to disk instead.\n",
      "25/06/16 14:43:35 WARN MemoryStore: Not enough space to cache rdd_34_0 in memory! (computed 12.3 MiB so far)\n",
      "25/06/16 14:43:35 WARN MemoryStore: Not enough space to cache rdd_34_4 in memory! (computed 8.2 MiB so far)\n",
      "25/06/16 14:43:35 WARN MemoryStore: Not enough space to cache rdd_34_8 in memory! (computed 5.4 MiB so far)\n",
      "25/06/16 14:43:35 WARN MemoryStore: Not enough space to cache rdd_34_1 in memory! (computed 8.2 MiB so far)\n",
      "25/06/16 14:43:35 WARN MemoryStore: Not enough space to cache rdd_34_2 in memory! (computed 18.4 MiB so far)\n",
      "25/06/16 14:43:36 WARN MemoryStore: Not enough space to cache rdd_34_7 in memory! (computed 3.4 MiB so far)\n",
      "25/06/16 14:43:36 WARN MemoryStore: Not enough space to cache rdd_34_8 in memory! (computed 3.4 MiB so far)\n",
      "25/06/16 14:43:36 WARN MemoryStore: Not enough space to cache rdd_42_3 in memory! (computed 2.0 MiB so far)\n",
      "25/06/16 14:43:36 WARN MemoryStore: Not enough space to cache rdd_34_1 in memory! (computed 8.2 MiB so far)\n",
      "25/06/16 14:43:36 WARN MemoryStore: Failed to reserve initial memory threshold of 1024.0 KiB for computing block rdd_38_7 in memory.\n",
      "25/06/16 14:43:36 WARN MemoryStore: Not enough space to cache rdd_38_7 in memory! (computed 640.0 B so far)\n",
      "25/06/16 14:43:36 WARN MemoryStore: Not enough space to cache rdd_34_4 in memory! (computed 8.2 MiB so far)\n",
      "25/06/16 14:43:36 WARN MemoryStore: Not enough space to cache rdd_42_9 in memory! (computed 2.0 MiB so far)\n",
      "25/06/16 14:43:36 WARN MemoryStore: Not enough space to cache rdd_42_14 in memory! (computed 2.0 MiB so far)\n",
      "25/06/16 14:43:36 WARN MemoryStore: Not enough space to cache rdd_42_11 in memory! (computed 2.0 MiB so far)\n",
      "25/06/16 14:43:36 WARN MemoryStore: Not enough space to cache rdd_34_10 in memory! (computed 5.4 MiB so far)\n",
      "25/06/16 14:43:36 WARN MemoryStore: Not enough space to cache rdd_34_0 in memory! (computed 8.2 MiB so far)\n",
      "25/06/16 14:43:36 WARN MemoryStore: Not enough space to cache rdd_42_6 in memory! (computed 2.0 MiB so far)\n",
      "25/06/16 14:43:36 WARN BlockManager: Persisting block rdd_42_14 to disk instead.\n",
      "25/06/16 14:43:36 WARN BlockManager: Persisting block rdd_42_3 to disk instead.\n",
      "25/06/16 14:43:36 WARN MemoryStore: Failed to reserve initial memory threshold of 1024.0 KiB for computing block rdd_42_7 in memory.\n",
      "25/06/16 14:43:36 WARN MemoryStore: Failed to reserve initial memory threshold of 1024.0 KiB for computing block rdd_38_1 in memory.\n",
      "25/06/16 14:43:36 WARN MemoryStore: Not enough space to cache rdd_38_1 in memory! (computed 640.0 B so far)\n",
      "25/06/16 14:43:36 WARN BlockManager: Persisting block rdd_42_9 to disk instead.\n",
      "25/06/16 14:43:36 WARN BlockManager: Persisting block rdd_42_11 to disk instead.\n",
      "25/06/16 14:43:36 WARN MemoryStore: Failed to reserve initial memory threshold of 1024.0 KiB for computing block rdd_42_1 in memory.\n",
      "25/06/16 14:43:36 WARN MemoryStore: Not enough space to cache rdd_42_1 in memory! (computed 640.0 B so far)\n",
      "25/06/16 14:43:36 WARN MemoryStore: Failed to reserve initial memory threshold of 1024.0 KiB for computing block rdd_38_0 in memory.\n",
      "25/06/16 14:43:36 WARN MemoryStore: Not enough space to cache rdd_38_0 in memory! (computed 640.0 B so far)\n",
      "25/06/16 14:43:36 WARN MemoryStore: Failed to reserve initial memory threshold of 1024.0 KiB for computing block rdd_42_0 in memory.\n",
      "25/06/16 14:43:36 WARN MemoryStore: Not enough space to cache rdd_42_0 in memory! (computed 640.0 B so far)\n",
      "25/06/16 14:43:36 WARN BlockManager: Persisting block rdd_42_0 to disk instead.\n",
      "25/06/16 14:43:36 WARN MemoryStore: Not enough space to cache rdd_42_7 in memory! (computed 640.0 B so far)\n",
      "25/06/16 14:43:36 WARN MemoryStore: Failed to reserve initial memory threshold of 1024.0 KiB for computing block rdd_38_8 in memory.\n",
      "25/06/16 14:43:36 WARN MemoryStore: Not enough space to cache rdd_38_8 in memory! (computed 640.0 B so far)\n",
      "25/06/16 14:43:36 WARN BlockManager: Persisting block rdd_42_6 to disk instead.\n",
      "25/06/16 14:43:36 WARN MemoryStore: Failed to reserve initial memory threshold of 1024.0 KiB for computing block rdd_42_8 in memory.\n",
      "25/06/16 14:43:36 WARN MemoryStore: Failed to reserve initial memory threshold of 1024.0 KiB for computing block rdd_38_4 in memory.\n",
      "25/06/16 14:43:36 WARN BlockManager: Persisting block rdd_42_7 to disk instead.\n",
      "25/06/16 14:43:36 WARN MemoryStore: Not enough space to cache rdd_38_4 in memory! (computed 640.0 B so far)\n",
      "25/06/16 14:43:36 WARN MemoryStore: Failed to reserve initial memory threshold of 1024.0 KiB for computing block rdd_42_4 in memory.\n",
      "25/06/16 14:43:36 WARN MemoryStore: Not enough space to cache rdd_42_4 in memory! (computed 640.0 B so far)\n",
      "25/06/16 14:43:36 WARN BlockManager: Persisting block rdd_42_4 to disk instead.\n",
      "25/06/16 14:43:36 WARN MemoryStore: Failed to reserve initial memory threshold of 1024.0 KiB for computing block rdd_38_10 in memory.\n",
      "25/06/16 14:43:36 WARN MemoryStore: Not enough space to cache rdd_42_8 in memory! (computed 640.0 B so far)\n",
      "25/06/16 14:43:37 WARN MemoryStore: Not enough space to cache rdd_38_10 in memory! (computed 640.0 B so far)\n",
      "25/06/16 14:43:37 WARN BlockManager: Persisting block rdd_42_8 to disk instead.\n",
      "25/06/16 14:43:36 WARN BlockManager: Persisting block rdd_42_1 to disk instead.\n",
      "25/06/16 14:43:37 WARN MemoryStore: Failed to reserve initial memory threshold of 1024.0 KiB for computing block rdd_42_10 in memory.\n",
      "25/06/16 14:43:37 WARN MemoryStore: Not enough space to cache rdd_42_10 in memory! (computed 640.0 B so far)\n",
      "25/06/16 14:43:37 WARN BlockManager: Persisting block rdd_42_10 to disk instead.\n",
      "25/06/16 14:43:37 WARN MemoryStore: Not enough space to cache rdd_42_15 in memory! (computed 4.0 MiB so far)\n",
      "25/06/16 14:43:37 WARN BlockManager: Persisting block rdd_42_15 to disk instead.\n",
      "25/06/16 14:43:37 WARN MemoryStore: Not enough space to cache rdd_42_12 in memory! (computed 2.0 MiB so far)\n",
      "25/06/16 14:43:37 WARN MemoryStore: Not enough space to cache rdd_42_5 in memory! (computed 2.0 MiB so far)\n",
      "25/06/16 14:43:37 WARN BlockManager: Persisting block rdd_42_12 to disk instead.\n",
      "25/06/16 14:43:37 WARN BlockManager: Persisting block rdd_42_5 to disk instead.\n",
      "25/06/16 14:43:38 WARN MemoryStore: Not enough space to cache rdd_34_8 in memory! (computed 12.3 MiB so far)\n",
      "25/06/16 14:43:38 WARN MemoryStore: Not enough space to cache rdd_34_0 in memory! (computed 12.3 MiB so far)\n",
      "25/06/16 14:43:38 WARN MemoryStore: Not enough space to cache rdd_34_1 in memory! (computed 18.4 MiB so far)\n",
      "25/06/16 14:43:38 WARN MemoryStore: Not enough space to cache rdd_34_15 in memory! (computed 12.3 MiB so far)\n",
      "25/06/16 14:43:38 WARN MemoryStore: Not enough space to cache rdd_34_10 in memory! (computed 12.3 MiB so far)\n",
      "25/06/16 14:43:39 WARN MemoryStore: Not enough space to cache rdd_34_15 in memory! (computed 8.2 MiB so far)\n",
      "25/06/16 14:43:39 WARN MemoryStore: Not enough space to cache rdd_34_1 in memory! (computed 12.3 MiB so far)\n",
      "25/06/16 14:43:39 WARN MemoryStore: Not enough space to cache rdd_34_2 in memory! (computed 12.3 MiB so far)\n",
      "25/06/16 14:43:39 WARN MemoryStore: Not enough space to cache rdd_34_8 in memory! (computed 12.3 MiB so far)\n",
      "25/06/16 14:43:39 WARN MemoryStore: Not enough space to cache rdd_34_10 in memory! (computed 12.3 MiB so far)\n",
      "25/06/16 14:43:39 WARN MemoryStore: Not enough space to cache rdd_34_5 in memory! (computed 12.3 MiB so far)\n",
      "25/06/16 14:43:39 WARN MemoryStore: Not enough space to cache rdd_34_0 in memory! (computed 12.3 MiB so far)\n",
      "25/06/16 14:43:40 WARN MemoryStore: Not enough space to cache rdd_34_8 in memory! (computed 12.3 MiB so far)\n",
      "25/06/16 14:43:40 WARN MemoryStore: Not enough space to cache rdd_34_15 in memory! (computed 8.2 MiB so far)\n",
      "25/06/16 14:43:40 WARN MemoryStore: Not enough space to cache rdd_34_5 in memory! (computed 12.3 MiB so far)\n",
      "25/06/16 14:43:40 WARN MemoryStore: Not enough space to cache rdd_34_1 in memory! (computed 18.4 MiB so far)\n",
      "25/06/16 14:43:40 WARN MemoryStore: Not enough space to cache rdd_34_0 in memory! (computed 12.3 MiB so far)\n",
      "25/06/16 14:43:41 WARN MemoryStore: Not enough space to cache rdd_34_15 in memory! (computed 3.4 MiB so far)\n",
      "25/06/16 14:43:41 WARN MemoryStore: Not enough space to cache rdd_34_5 in memory! (computed 3.4 MiB so far)\n",
      "25/06/16 14:43:41 WARN MemoryStore: Not enough space to cache rdd_34_0 in memory! (computed 3.4 MiB so far)\n",
      "25/06/16 14:43:41 WARN MemoryStore: Not enough space to cache rdd_34_1 in memory! (computed 5.4 MiB so far)\n",
      "25/06/16 14:43:41 WARN MemoryStore: Not enough space to cache rdd_34_8 in memory! (computed 18.4 MiB so far)\n",
      "25/06/16 14:43:41 WARN MemoryStore: Not enough space to cache rdd_34_8 in memory! (computed 3.4 MiB so far)\n",
      "25/06/16 14:43:41 WARN MemoryStore: Not enough space to cache rdd_34_1 in memory! (computed 3.4 MiB so far)\n",
      "25/06/16 14:43:41 WARN MemoryStore: Not enough space to cache rdd_34_0 in memory! (computed 3.4 MiB so far)\n",
      "25/06/16 14:43:41 WARN MemoryStore: Not enough space to cache rdd_34_15 in memory! (computed 8.2 MiB so far)\n",
      "25/06/16 14:43:41 WARN MemoryStore: Not enough space to cache rdd_34_5 in memory! (computed 18.4 MiB so far)\n",
      "25/06/16 14:43:42 WARN MemoryStore: Not enough space to cache rdd_34_1 in memory! (computed 5.4 MiB so far)\n",
      "25/06/16 14:43:42 WARN MemoryStore: Not enough space to cache rdd_34_0 in memory! (computed 5.4 MiB so far)\n",
      "25/06/16 14:43:42 WARN MemoryStore: Not enough space to cache rdd_34_15 in memory! (computed 5.4 MiB so far)\n",
      "25/06/16 14:43:42 WARN MemoryStore: Not enough space to cache rdd_34_5 in memory! (computed 3.4 MiB so far)\n",
      "25/06/16 14:43:42 WARN MemoryStore: Not enough space to cache rdd_34_8 in memory! (computed 2.3 MiB so far)\n",
      "25/06/16 14:43:42 WARN MemoryStore: Not enough space to cache rdd_34_15 in memory! (computed 3.4 MiB so far)\n",
      "25/06/16 14:43:42 WARN MemoryStore: Not enough space to cache rdd_34_0 in memory! (computed 8.2 MiB so far)\n",
      "25/06/16 14:43:42 WARN MemoryStore: Not enough space to cache rdd_34_1 in memory! (computed 5.4 MiB so far)\n",
      "25/06/16 14:43:42 WARN MemoryStore: Not enough space to cache rdd_34_5 in memory! (computed 5.4 MiB so far)\n",
      "25/06/16 14:43:42 WARN MemoryStore: Not enough space to cache rdd_34_8 in memory! (computed 18.4 MiB so far)\n",
      "25/06/16 14:43:43 WARN MemoryStore: Not enough space to cache rdd_34_15 in memory! (computed 5.4 MiB so far)\n",
      "25/06/16 14:43:43 WARN MemoryStore: Not enough space to cache rdd_34_0 in memory! (computed 3.4 MiB so far)\n",
      "25/06/16 14:43:43 WARN MemoryStore: Not enough space to cache rdd_34_1 in memory! (computed 5.4 MiB so far)\n",
      "25/06/16 14:43:43 WARN MemoryStore: Not enough space to cache rdd_34_5 in memory! (computed 2.3 MiB so far)\n",
      "25/06/16 14:43:43 WARN MemoryStore: Not enough space to cache rdd_34_8 in memory! (computed 5.4 MiB so far)\n",
      "25/06/16 14:43:43 WARN MemoryStore: Not enough space to cache rdd_34_15 in memory! (computed 3.4 MiB so far)\n",
      "25/06/16 14:43:43 WARN MemoryStore: Not enough space to cache rdd_34_5 in memory! (computed 3.4 MiB so far)\n",
      "25/06/16 14:43:43 WARN MemoryStore: Not enough space to cache rdd_34_1 in memory! (computed 5.4 MiB so far)\n",
      "25/06/16 14:43:43 WARN MemoryStore: Not enough space to cache rdd_34_0 in memory! (computed 3.4 MiB so far)\n",
      "25/06/16 14:43:43 WARN MemoryStore: Not enough space to cache rdd_34_8 in memory! (computed 5.4 MiB so far)\n",
      "25/06/16 14:43:44 WARN MemoryStore: Not enough space to cache rdd_34_0 in memory! (computed 3.4 MiB so far)\n",
      "25/06/16 14:43:44 WARN MemoryStore: Not enough space to cache rdd_34_5 in memory! (computed 5.4 MiB so far)\n",
      "25/06/16 14:43:44 WARN MemoryStore: Not enough space to cache rdd_34_8 in memory! (computed 2.3 MiB so far)\n",
      "25/06/16 14:43:44 WARN MemoryStore: Not enough space to cache rdd_34_15 in memory! (computed 5.4 MiB so far)\n",
      "25/06/16 14:43:44 WARN MemoryStore: Not enough space to cache rdd_34_1 in memory! (computed 18.4 MiB so far)\n",
      "25/06/16 14:43:44 WARN MemoryStore: Not enough space to cache rdd_34_8 in memory! (computed 5.4 MiB so far)\n",
      "25/06/16 14:43:44 WARN MemoryStore: Not enough space to cache rdd_34_0 in memory! (computed 3.4 MiB so far)\n",
      "25/06/16 14:43:44 WARN MemoryStore: Not enough space to cache rdd_34_15 in memory! (computed 2.3 MiB so far)\n",
      "25/06/16 14:43:44 WARN MemoryStore: Not enough space to cache rdd_34_1 in memory! (computed 5.4 MiB so far)\n",
      "25/06/16 14:43:44 WARN MemoryStore: Not enough space to cache rdd_34_5 in memory! (computed 18.4 MiB so far)\n",
      "25/06/16 14:43:44 WARN MemoryStore: Not enough space to cache rdd_34_8 in memory! (computed 3.4 MiB so far)\n",
      "25/06/16 14:43:44 WARN MemoryStore: Not enough space to cache rdd_34_15 in memory! (computed 5.4 MiB so far)\n",
      "25/06/16 14:43:44 WARN MemoryStore: Not enough space to cache rdd_34_5 in memory! (computed 5.4 MiB so far)\n",
      "25/06/16 14:43:44 WARN MemoryStore: Not enough space to cache rdd_34_1 in memory! (computed 5.4 MiB so far)\n",
      "25/06/16 14:43:44 WARN MemoryStore: Not enough space to cache rdd_34_0 in memory! (computed 2.3 MiB so far)\n",
      "25/06/16 14:43:45 WARN MemoryStore: Not enough space to cache rdd_34_8 in memory! (computed 3.4 MiB so far)\n",
      "25/06/16 14:43:45 WARN MemoryStore: Not enough space to cache rdd_34_0 in memory! (computed 3.4 MiB so far)\n",
      "25/06/16 14:43:45 WARN MemoryStore: Not enough space to cache rdd_34_5 in memory! (computed 8.2 MiB so far)\n",
      "25/06/16 14:43:45 WARN MemoryStore: Not enough space to cache rdd_34_15 in memory! (computed 5.4 MiB so far)\n",
      "25/06/16 14:43:45 WARN MemoryStore: Not enough space to cache rdd_34_1 in memory! (computed 8.2 MiB so far)\n",
      "25/06/16 14:43:45 WARN MemoryStore: Not enough space to cache rdd_34_15 in memory! (computed 3.4 MiB so far)\n",
      "25/06/16 14:43:45 WARN MemoryStore: Not enough space to cache rdd_34_8 in memory! (computed 5.4 MiB so far)\n",
      "25/06/16 14:43:45 WARN MemoryStore: Not enough space to cache rdd_34_1 in memory! (computed 5.4 MiB so far)\n",
      "25/06/16 14:43:45 WARN MemoryStore: Not enough space to cache rdd_34_5 in memory! (computed 2.3 MiB so far)\n",
      "25/06/16 14:43:46 WARN MemoryStore: Not enough space to cache rdd_34_0 in memory! (computed 18.4 MiB so far)\n",
      "25/06/16 14:43:46 WARN MemoryStore: Not enough space to cache rdd_34_1 in memory! (computed 3.4 MiB so far)\n",
      "25/06/16 14:43:46 WARN MemoryStore: Not enough space to cache rdd_34_8 in memory! (computed 5.4 MiB so far)\n",
      "25/06/16 14:43:46 WARN MemoryStore: Not enough space to cache rdd_34_0 in memory! (computed 5.4 MiB so far)\n",
      "25/06/16 14:43:46 WARN MemoryStore: Not enough space to cache rdd_34_15 in memory! (computed 12.3 MiB so far)\n",
      "25/06/16 14:43:46 WARN MemoryStore: Not enough space to cache rdd_34_5 in memory! (computed 8.2 MiB so far)\n",
      "25/06/16 14:43:46 WARN MemoryStore: Not enough space to cache rdd_34_1 in memory! (computed 3.4 MiB so far)\n",
      "25/06/16 14:43:46 WARN MemoryStore: Not enough space to cache rdd_34_5 in memory! (computed 3.4 MiB so far)\n",
      "25/06/16 14:43:46 WARN MemoryStore: Not enough space to cache rdd_34_15 in memory! (computed 3.4 MiB so far)\n",
      "25/06/16 14:43:46 WARN MemoryStore: Not enough space to cache rdd_34_8 in memory! (computed 8.2 MiB so far)\n",
      "25/06/16 14:43:46 WARN MemoryStore: Not enough space to cache rdd_34_0 in memory! (computed 18.4 MiB so far)\n",
      "25/06/16 14:43:47 WARN MemoryStore: Not enough space to cache rdd_34_8 in memory! (computed 3.4 MiB so far)\n",
      "25/06/16 14:43:47 WARN MemoryStore: Not enough space to cache rdd_34_0 in memory! (computed 5.4 MiB so far)\n",
      "25/06/16 14:43:47 WARN MemoryStore: Not enough space to cache rdd_34_15 in memory! (computed 5.4 MiB so far)\n",
      "25/06/16 14:43:47 WARN MemoryStore: Not enough space to cache rdd_34_5 in memory! (computed 5.4 MiB so far)\n",
      "25/06/16 14:43:47 WARN MemoryStore: Not enough space to cache rdd_34_1 in memory! (computed 2.3 MiB so far)\n",
      "25/06/16 14:43:47 WARN MemoryStore: Not enough space to cache rdd_34_15 in memory! (computed 3.4 MiB so far)\n",
      "25/06/16 14:43:47 WARN MemoryStore: Not enough space to cache rdd_34_0 in memory! (computed 3.4 MiB so far)\n",
      "25/06/16 14:43:47 WARN MemoryStore: Not enough space to cache rdd_34_5 in memory! (computed 3.4 MiB so far)\n",
      "25/06/16 14:43:47 WARN MemoryStore: Not enough space to cache rdd_34_8 in memory! (computed 8.2 MiB so far)\n",
      "25/06/16 14:43:47 WARN MemoryStore: Not enough space to cache rdd_34_1 in memory! (computed 18.4 MiB so far)\n",
      "25/06/16 14:43:48 WARN MemoryStore: Not enough space to cache rdd_34_15 in memory! (computed 3.4 MiB so far)\n",
      "25/06/16 14:43:48 WARN MemoryStore: Not enough space to cache rdd_34_8 in memory! (computed 5.4 MiB so far)\n",
      "25/06/16 14:43:48 WARN MemoryStore: Not enough space to cache rdd_34_0 in memory! (computed 5.4 MiB so far)\n",
      "25/06/16 14:43:48 WARN MemoryStore: Not enough space to cache rdd_34_5 in memory! (computed 3.4 MiB so far)\n",
      "25/06/16 14:43:48 WARN MemoryStore: Not enough space to cache rdd_34_1 in memory! (computed 18.4 MiB so far)\n",
      "25/06/16 14:43:48 WARN MemoryStore: Not enough space to cache rdd_34_15 in memory! (computed 3.4 MiB so far)\n",
      "25/06/16 14:43:48 WARN MemoryStore: Not enough space to cache rdd_34_0 in memory! (computed 3.4 MiB so far)\n",
      "25/06/16 14:43:48 WARN MemoryStore: Not enough space to cache rdd_34_8 in memory! (computed 3.4 MiB so far)\n",
      "25/06/16 14:43:48 WARN MemoryStore: Not enough space to cache rdd_34_1 in memory! (computed 5.4 MiB so far)\n",
      "25/06/16 14:43:48 WARN MemoryStore: Not enough space to cache rdd_34_5 in memory! (computed 18.4 MiB so far)\n",
      "25/06/16 14:43:49 WARN MemoryStore: Not enough space to cache rdd_34_1 in memory! (computed 1536.9 KiB so far)\n",
      "25/06/16 14:43:49 WARN MemoryStore: Not enough space to cache rdd_34_8 in memory! (computed 3.4 MiB so far)\n",
      "25/06/16 14:43:49 WARN MemoryStore: Not enough space to cache rdd_34_15 in memory! (computed 5.4 MiB so far)\n",
      "25/06/16 14:43:49 WARN MemoryStore: Not enough space to cache rdd_34_5 in memory! (computed 8.2 MiB so far)\n",
      "25/06/16 14:43:49 WARN MemoryStore: Not enough space to cache rdd_34_0 in memory! (computed 12.3 MiB so far)\n",
      "25/06/16 14:43:49 WARN MemoryStore: Not enough space to cache rdd_34_15 in memory! (computed 3.4 MiB so far)\n",
      "25/06/16 14:43:49 WARN MemoryStore: Not enough space to cache rdd_34_8 in memory! (computed 3.4 MiB so far)\n",
      "25/06/16 14:43:49 WARN MemoryStore: Not enough space to cache rdd_34_0 in memory! (computed 3.4 MiB so far)\n",
      "25/06/16 14:43:49 WARN MemoryStore: Not enough space to cache rdd_34_5 in memory! (computed 5.4 MiB so far)\n",
      "25/06/16 14:43:49 WARN MemoryStore: Not enough space to cache rdd_34_1 in memory! (computed 18.4 MiB so far)\n",
      "25/06/16 14:43:52 WARN WindowExec: No Partition Defined for Window operation! Moving all data to a single partition, this can cause serious performance degradation.\n",
      "25/06/16 14:43:52 WARN WindowExec: No Partition Defined for Window operation! Moving all data to a single partition, this can cause serious performance degradation.\n",
      "25/06/16 14:43:52 WARN WindowExec: No Partition Defined for Window operation! Moving all data to a single partition, this can cause serious performance degradation.\n",
      "25/06/16 14:43:54 WARN WindowExec: No Partition Defined for Window operation! Moving all data to a single partition, this can cause serious performance degradation.\n",
      "25/06/16 14:43:54 WARN WindowExec: No Partition Defined for Window operation! Moving all data to a single partition, this can cause serious performance degradation.\n",
      "25/06/16 14:43:54 WARN WindowExec: No Partition Defined for Window operation! Moving all data to a single partition, this can cause serious performance degradation.\n",
      "                                                                                "
     ]
    }
   ],
   "source": [
    "a = preprocessor.fit(data)"
   ]
  },
  {
   "cell_type": "code",
   "execution_count": 9,
   "id": "f6a44806-6667-4692-b396-c007411e9b8f",
   "metadata": {},
   "outputs": [
    {
     "data": {
      "text/plain": [
       "{'tr_datetime': Unitary transformation,\n",
       " 'mcc_code': Unitary transformation,\n",
       " 'tr_type': Unitary transformation,\n",
       " 'amount': Unitary transformation}"
      ]
     },
     "execution_count": 9,
     "metadata": {},
     "output_type": "execute_result"
    }
   ],
   "source": [
    "preprocessor.unitary_func"
   ]
  },
  {
   "cell_type": "code",
   "execution_count": 8,
   "id": "607494bc-418d-49a3-852b-c9da0cfabbf5",
   "metadata": {},
   "outputs": [
    {
     "name": "stdout",
     "output_type": "stream",
     "text": [
      "<class 'ptls.preprocessing.base.transformation.col_identity_transformer.ColIdentityEncoder'> tr_datetime event_time False\n",
      "<class 'ptls.preprocessing.pandas.pandas_transformation.pandas_freq_transformer.FrequencyEncoder'> mcc_code mcc_code True\n",
      "<class 'ptls.preprocessing.pandas.pandas_transformation.pandas_freq_transformer.FrequencyEncoder'> tr_type tr_type True\n",
      "<class 'ptls.preprocessing.pandas.pandas_transformation.discretizer.ColNumericDiscretizer'> amount amount_cat False\n",
      "<class 'ptls.preprocessing.base.transformation.col_identity_transformer.ColIdentityEncoder'> amount amount False\n",
      "<class 'ptls.preprocessing.base.transformation.user_group_transformer.UserGroupTransformer'> client_id client_id False\n"
     ]
    }
   ],
   "source": [
    "for ct in preprocessor._all_col_transformers:\n",
    "    print(type(ct), ct.col_name_original, ct.col_name_target, ct.is_drop_original_col)"
   ]
  },
  {
   "cell_type": "code",
   "execution_count": 11,
   "id": "1ddcf080-77c9-441c-ac4f-6e5b7c367022",
   "metadata": {},
   "outputs": [],
   "source": [
    "            cols_discretize={'amount' : ('quantile', 100)},"
   ]
  },
  {
   "cell_type": "code",
   "execution_count": 5,
   "id": "bb4b6410-84af-453a-9696-d69de6a53b2f",
   "metadata": {},
   "outputs": [],
   "source": [
    "data1 = preprocessor.transform(data)"
   ]
  },
  {
   "cell_type": "code",
   "execution_count": 7,
   "id": "ae6f4abc-aec8-4a24-9671-0bf99a5dec70",
   "metadata": {
    "scrolled": true
   },
   "outputs": [
    {
     "name": "stderr",
     "output_type": "stream",
     "text": [
      "                                                                                "
     ]
    }
   ],
   "source": [
    "aa = data1.select('amount_cat').toPandas()"
   ]
  },
  {
   "cell_type": "code",
   "execution_count": 12,
   "id": "e6f7c3da-bd63-49e5-a398-1005a89cd07d",
   "metadata": {},
   "outputs": [
    {
     "data": {
      "text/plain": [
       "array([3, 4, 3, ..., 2, 3, 2])"
      ]
     },
     "execution_count": 12,
     "metadata": {},
     "output_type": "execute_result"
    }
   ],
   "source": [
    "np.concatenate(list(map(np.array, aa.amount_cat)))"
   ]
  },
  {
   "cell_type": "code",
   "execution_count": 70,
   "id": "65fda059-31c7-4d19-9472-12d3d7733341",
   "metadata": {},
   "outputs": [],
   "source": [
    "from pyspark.ml.clustering import KMeans\n",
    "from pyspark.ml.feature import VectorAssembler\n",
    "from pyspark.ml.feature import QuantileDiscretizer\n",
    "\n",
    "def test_distribution():\n",
    "    for discr_type in ['quantile', 'kmeans']:\n",
    "        np.random.seed(42)\n",
    "        num_rows = 10000\n",
    "        df = pd.DataFrame({\n",
    "            'id': np.random.randint(1, 4, size=num_rows),\n",
    "            'event_dt': np.random.randint(1, 100, size=num_rows),\n",
    "            'num_value': np.random.normal(loc=0, scale=100, size=num_rows)\n",
    "        })\n",
    "        df_spark = spark.createDataFrame(df)\n",
    "\n",
    "        n_bins_discr = 100\n",
    "        preprocessor =  PysparkDataPreprocessor(\n",
    "                col_id='id',\n",
    "                col_event_time='event_dt',\n",
    "                event_time_transformation='none',\n",
    "                category_transformation = 'frequency',\n",
    "                cols_discretize={'num_value' : (discr_type,  n_bins_discr)},\n",
    "            )\n",
    "        processed = preprocessor.fit_transform(df_spark)\n",
    "        preproc_cats = processed.select('num_value_cat').toPandas()\n",
    "        preproc_cats = np.concatenate(list(map(np.array, preproc_cats.num_value_cat)))\n",
    "\n",
    "        if discr_type == 'quantile':\n",
    "            kbins = QuantileDiscretizer(\n",
    "                numBuckets=n_bins_discr,\n",
    "                inputCol='num_value',\n",
    "                outputCol='num_value_cat',\n",
    "                handleInvalid=\"skip\"\n",
    "            )\n",
    "            wrapped = df_spark\n",
    "        else:\n",
    "            kbins = KMeans(\n",
    "                    k=n_bins_discr, \n",
    "                    featuresCol='num_value_wrapped', \n",
    "                    predictionCol='num_value_cat',\n",
    "                    seed=42,                 \n",
    "                )\n",
    "            va = VectorAssembler(inputCols=['num_value'], outputCol='num_value_wrapped')\n",
    "            wrapped = va.transform(df_spark)\n",
    "        processed = kbins.fit(wrapped).transform(wrapped)\n",
    "        kbins_cats = processed.select('num_value_cat').toPandas()\n",
    "        kbins_cats = kbins_cats.num_value_cat.values.astype(int)\n",
    "\n",
    "        preproc_counts = np.bincount(preproc_cats - 1, minlength=n_bins_discr)\n",
    "        kbins_counts = sorted(np.bincount(kbins_cats, minlength=n_bins_discr))[::-1]\n",
    "\n",
    "        stat, p_value = chisquare(f_obs=preproc_counts, f_exp=kbins_counts)\n",
    "        print(f\"Discretization {discr_type}: chi-square p-value is {p_value:.5f}\")\n",
    "\n",
    "        assert p_value > 0.05, f\"Discretization {discr_type}: distributions differ significantly (p={p_value:.5f})\"\n"
   ]
  },
  {
   "cell_type": "code",
   "execution_count": 29,
   "id": "885a601d-72b6-46b3-8ef5-02f2d43e0076",
   "metadata": {},
   "outputs": [
    {
     "data": {
      "text/plain": [
       "(array([0, 2, 1, 0, 5]), array([0, 5, 2, 0, 1]))"
      ]
     },
     "execution_count": 29,
     "metadata": {},
     "output_type": "execute_result"
    }
   ],
   "source": [
    "np.bincount([1, 1, 2, 4, 4, 4, 4, 4], minlength=3), np.bincount([1, 1, 1, 2, 4, 1, 2, 1], minlength=3)"
   ]
  },
  {
   "cell_type": "code",
   "execution_count": 71,
   "id": "8d707258-11b0-4d11-9536-e164f2d077d9",
   "metadata": {},
   "outputs": [
    {
     "name": "stdout",
     "output_type": "stream",
     "text": [
      "Creating Dask Server\n"
     ]
    },
    {
     "name": "stderr",
     "output_type": "stream",
     "text": [
      "/root/anaconda3/envs/torch/lib/python3.10/site-packages/distributed/node.py:182: UserWarning: Port 8787 is already in use.\n",
      "Perhaps you already have a cluster running?\n",
      "Hosting the HTTP server on port 43135 instead\n",
      "  warnings.warn(\n"
     ]
    },
    {
     "name": "stdout",
     "output_type": "stream",
     "text": [
      "Link Dask Server - http://172.20.10.8:43135/status\n"
     ]
    },
    {
     "name": "stderr",
     "output_type": "stream",
     "text": [
      "25/06/16 18:36:11 WARN WindowExec: No Partition Defined for Window operation! Moving all data to a single partition, this can cause serious performance degradation.\n",
      "25/06/16 18:36:11 WARN WindowExec: No Partition Defined for Window operation! Moving all data to a single partition, this can cause serious performance degradation.\n",
      "25/06/16 18:36:11 WARN WindowExec: No Partition Defined for Window operation! Moving all data to a single partition, this can cause serious performance degradation.\n",
      "25/06/16 18:36:11 WARN WindowExec: No Partition Defined for Window operation! Moving all data to a single partition, this can cause serious performance degradation.\n",
      "25/06/16 18:36:11 WARN WindowExec: No Partition Defined for Window operation! Moving all data to a single partition, this can cause serious performance degradation.\n",
      "25/06/16 18:36:11 WARN WindowExec: No Partition Defined for Window operation! Moving all data to a single partition, this can cause serious performance degradation.\n"
     ]
    },
    {
     "name": "stdout",
     "output_type": "stream",
     "text": [
      "Discretization quantile: chi-square p-value is 1.00000\n",
      "Creating Dask Server\n"
     ]
    },
    {
     "name": "stderr",
     "output_type": "stream",
     "text": [
      "/root/anaconda3/envs/torch/lib/python3.10/site-packages/distributed/node.py:182: UserWarning: Port 8787 is already in use.\n",
      "Perhaps you already have a cluster running?\n",
      "Hosting the HTTP server on port 44935 instead\n",
      "  warnings.warn(\n"
     ]
    },
    {
     "name": "stdout",
     "output_type": "stream",
     "text": [
      "Link Dask Server - http://172.20.10.8:44935/status\n"
     ]
    },
    {
     "name": "stderr",
     "output_type": "stream",
     "text": [
      "25/06/16 18:36:19 WARN WindowExec: No Partition Defined for Window operation! Moving all data to a single partition, this can cause serious performance degradation.\n",
      "25/06/16 18:36:19 WARN WindowExec: No Partition Defined for Window operation! Moving all data to a single partition, this can cause serious performance degradation.\n",
      "25/06/16 18:36:19 WARN WindowExec: No Partition Defined for Window operation! Moving all data to a single partition, this can cause serious performance degradation.\n",
      "25/06/16 18:36:19 WARN WindowExec: No Partition Defined for Window operation! Moving all data to a single partition, this can cause serious performance degradation.\n",
      "25/06/16 18:36:19 WARN WindowExec: No Partition Defined for Window operation! Moving all data to a single partition, this can cause serious performance degradation.\n",
      "25/06/16 18:36:19 WARN WindowExec: No Partition Defined for Window operation! Moving all data to a single partition, this can cause serious performance degradation.\n"
     ]
    },
    {
     "name": "stdout",
     "output_type": "stream",
     "text": [
      "Discretization kmeans: chi-square p-value is 1.00000\n"
     ]
    }
   ],
   "source": [
    "test_distribution()"
   ]
  },
  {
   "cell_type": "code",
   "execution_count": 34,
   "id": "6d50aa7a-9079-46c0-bbab-07bdae75313d",
   "metadata": {},
   "outputs": [],
   "source": [
    "def test_add_replace_col():\n",
    "    np.random.seed(42)\n",
    "    num_rows = 1000\n",
    "    df = pd.DataFrame({\n",
    "        'id': np.random.randint(1, 4, size=num_rows),\n",
    "        'event_dt': np.random.randint(1, 100, size=num_rows),\n",
    "        'num_value': np.random.normal(loc=0, scale=100, size=num_rows)\n",
    "    })\n",
    "\n",
    "    n_bins_discr = 10\n",
    "    discr_type = 'quantile'\n",
    "    preprocessor =  PandasDataPreprocessor(\n",
    "            col_id='id',\n",
    "            col_event_time='event_dt',\n",
    "            event_time_transformation='none',\n",
    "            category_transformation = 'none',\n",
    "            cols_discretize={'num_value' : (discr_type,  n_bins_discr)},\n",
    "            cols_numerical=['num_value'],\n",
    "            return_records=True,\n",
    "        )\n",
    "    processed = preprocessor.fit_transform(df)\n",
    "\n",
    "    assert 'num_value' in processed[0], f\"Original numeric expected in preprocessed data but not found\"\n",
    "    assert 'num_value_cat' in processed[0], f\"Discretized column 'num_value_cat' expected in preprocessed data but not found\"\n",
    "\n",
    "    preprocessor =  PandasDataPreprocessor(\n",
    "            col_id='id',\n",
    "            col_event_time='event_dt',\n",
    "            event_time_transformation='none',\n",
    "            category_transformation = 'none',\n",
    "            cols_discretize={'num_value' : (discr_type,  n_bins_discr)},\n",
    "            return_records=True,\n",
    "        )\n",
    "    processed = preprocessor.fit_transform(df)\n",
    "\n",
    "    assert 'num_value' not in processed[0], f\"Original numeric not expected in preprocessed data but found\"\n",
    "    assert 'num_value_cat' in processed[0], f\"Discretized column expected in preprocessed data but not found\""
   ]
  },
  {
   "cell_type": "code",
   "execution_count": 35,
   "id": "7af5e6e2-94da-46e6-b680-4a66a45101c4",
   "metadata": {},
   "outputs": [
    {
     "name": "stdout",
     "output_type": "stream",
     "text": [
      "Creating Dask Server\n",
      "Link Dask Server - http://172.19.0.1:59004/status\n"
     ]
    },
    {
     "name": "stderr",
     "output_type": "stream",
     "text": [
      "C:\\Users\\toppc\\.conda\\envs\\ptls-fork\\lib\\site-packages\\distributed\\node.py:187: UserWarning: Port 8787 is already in use.\n",
      "Perhaps you already have a cluster running?\n",
      "Hosting the HTTP server on port 59004 instead\n",
      "  warnings.warn(\n",
      "C:\\Users\\toppc\\Documents\\diploma\\pytorch-lifestream\\ptls\\preprocessing\\pandas\\pandas_transformation\\category_identity_encoder.py:67: UserWarning: 0 values fount in num_value_cat. 0 is a padding index\n",
      "  warnings.warn(\n"
     ]
    },
    {
     "name": "stdout",
     "output_type": "stream",
     "text": [
      "Creating Dask Server\n"
     ]
    },
    {
     "name": "stderr",
     "output_type": "stream",
     "text": [
      "C:\\Users\\toppc\\.conda\\envs\\ptls-fork\\lib\\site-packages\\distributed\\node.py:187: UserWarning: Port 8787 is already in use.\n",
      "Perhaps you already have a cluster running?\n",
      "Hosting the HTTP server on port 59011 instead\n",
      "  warnings.warn(\n"
     ]
    },
    {
     "name": "stdout",
     "output_type": "stream",
     "text": [
      "Link Dask Server - http://172.19.0.1:59011/status\n"
     ]
    },
    {
     "name": "stderr",
     "output_type": "stream",
     "text": [
      "C:\\Users\\toppc\\Documents\\diploma\\pytorch-lifestream\\ptls\\preprocessing\\pandas\\pandas_transformation\\category_identity_encoder.py:67: UserWarning: 0 values fount in num_value_cat. 0 is a padding index\n",
      "  warnings.warn(\n"
     ]
    }
   ],
   "source": [
    "test_add_replace_col()"
   ]
  },
  {
   "cell_type": "code",
   "execution_count": 63,
   "id": "88d71919-f839-4b4a-bf42-7d51657d36e7",
   "metadata": {},
   "outputs": [
    {
     "name": "stdout",
     "output_type": "stream",
     "text": [
      "Creating Dask Server\n"
     ]
    },
    {
     "name": "stderr",
     "output_type": "stream",
     "text": [
      "/root/anaconda3/envs/torch/lib/python3.10/site-packages/distributed/node.py:182: UserWarning: Port 8787 is already in use.\n",
      "Perhaps you already have a cluster running?\n",
      "Hosting the HTTP server on port 40837 instead\n",
      "  warnings.warn(\n"
     ]
    },
    {
     "name": "stdout",
     "output_type": "stream",
     "text": [
      "Link Dask Server - http://172.20.10.8:40837/status\n",
      "Discretization kmeans: chi-square p-value is 1.00000\n",
      "Creating Dask Server\n"
     ]
    },
    {
     "name": "stderr",
     "output_type": "stream",
     "text": [
      "/root/anaconda3/envs/torch/lib/python3.10/site-packages/distributed/node.py:182: UserWarning: Port 8787 is already in use.\n",
      "Perhaps you already have a cluster running?\n",
      "Hosting the HTTP server on port 46575 instead\n",
      "  warnings.warn(\n"
     ]
    },
    {
     "name": "stdout",
     "output_type": "stream",
     "text": [
      "Link Dask Server - http://172.20.10.8:46575/status\n",
      "Discretization quantile: chi-square p-value is 1.00000\n"
     ]
    }
   ],
   "source": [
    "for discr_type in ['kmeans', 'quantile']:\n",
    "    np.random.seed(42)\n",
    "    num_rows = 10000\n",
    "    df = pd.DataFrame({\n",
    "        'id': np.random.randint(1, 4, size=num_rows),\n",
    "        'event_dt': np.random.randint(1, 100, size=num_rows),\n",
    "        'num_value': np.random.normal(loc=0, scale=100, size=num_rows)\n",
    "    })\n",
    "\n",
    "    n_bins_discr = 100\n",
    "    preprocessor =  PandasDataPreprocessor(\n",
    "            col_id='id',\n",
    "            col_event_time='event_dt',\n",
    "            event_time_transformation='none',\n",
    "            category_transformation = 'frequency',\n",
    "            cols_discretize={'num_value' : (discr_type,  n_bins_discr)},\n",
    "            return_records=True,\n",
    "        )\n",
    "    processed = preprocessor.fit_transform(df)\n",
    "    preproc_cats = torch.cat([x['num_value_cat'] for x in processed]).numpy()\n",
    "\n",
    "    kbins = KBinsDiscretizer(n_bins=n_bins_discr, encode='ordinal', strategy=discr_type)\n",
    "    sklearn_cats = kbins.fit_transform(df[['num_value']]).astype(int).flatten()\n",
    "\n",
    "    preproc_counts = np.bincount(preproc_cats - 1, minlength=n_bins_discr)\n",
    "    sklearn_counts = sorted(np.bincount(sklearn_cats, minlength=n_bins_discr))[::-1]\n",
    "\n",
    "    stat, p_value = chisquare(f_obs=preproc_counts, f_exp=sklearn_counts)\n",
    "    print(f\"Discretization {discr_type}: chi-square p-value is {p_value:.5f}\")\n",
    "\n",
    "    assert p_value > 0.05, f\"Discretization {discr_type}: distributions differ significantly (p={p_value:.5f})\"\n"
   ]
  },
  {
   "cell_type": "code",
   "execution_count": null,
   "id": "aa1f1364-f42b-408e-808e-fee029c14055",
   "metadata": {},
   "outputs": [],
   "source": [
    "from collections import Counter\n",
    "Counter(preproc_cats)"
   ]
  },
  {
   "cell_type": "code",
   "execution_count": 74,
   "id": "7eaee97b-b1fb-4b72-a453-d0c86f3a0ba2",
   "metadata": {},
   "outputs": [
    {
     "name": "stdout",
     "output_type": "stream",
     "text": [
      "Creating Dask Server\n"
     ]
    },
    {
     "name": "stderr",
     "output_type": "stream",
     "text": [
      "/root/anaconda3/envs/torch/lib/python3.10/site-packages/distributed/node.py:182: UserWarning: Port 8787 is already in use.\n",
      "Perhaps you already have a cluster running?\n",
      "Hosting the HTTP server on port 39095 instead\n",
      "  warnings.warn(\n"
     ]
    },
    {
     "name": "stdout",
     "output_type": "stream",
     "text": [
      "Link Dask Server - http://172.20.10.8:39095/status\n"
     ]
    },
    {
     "name": "stderr",
     "output_type": "stream",
     "text": [
      "/home/everdark/diploma/pytorch-lifestream/ptls/preprocessing/pyspark/category_identity_encoder.py:80: UserWarning: 0 values fount in num_value_cat. 0 is a padding index\n",
      "  warnings.warn(\n"
     ]
    },
    {
     "name": "stdout",
     "output_type": "stream",
     "text": [
      "Creating Dask Server\n"
     ]
    },
    {
     "name": "stderr",
     "output_type": "stream",
     "text": [
      "/root/anaconda3/envs/torch/lib/python3.10/site-packages/distributed/node.py:182: UserWarning: Port 8787 is already in use.\n",
      "Perhaps you already have a cluster running?\n",
      "Hosting the HTTP server on port 40627 instead\n",
      "  warnings.warn(\n"
     ]
    },
    {
     "name": "stdout",
     "output_type": "stream",
     "text": [
      "Link Dask Server - http://172.20.10.8:40627/status\n"
     ]
    }
   ],
   "source": [
    "np.random.seed(42)\n",
    "num_rows = 1000\n",
    "df = pd.DataFrame({\n",
    "    'id': np.random.randint(1, 4, size=num_rows),\n",
    "    'event_dt': np.random.randint(1, 100, size=num_rows),\n",
    "    'num_value': np.random.normal(loc=0, scale=100, size=num_rows)\n",
    "})\n",
    "df_spark = spark.createDataFrame(df)\n",
    "\n",
    "n_bins_discr = 10\n",
    "discr_type = 'quantile'\n",
    "preprocessor =  PysparkDataPreprocessor(\n",
    "        col_id='id',\n",
    "        col_event_time='event_dt',\n",
    "        event_time_transformation='none',\n",
    "        category_transformation = 'none',\n",
    "        cols_discretize={'num_value' : (discr_type,  n_bins_discr)},\n",
    "        cols_numerical=['num_value'],\n",
    "    )\n",
    "processed = preprocessor.fit_transform(df_spark)\n",
    "\n",
    "assert 'num_value' in processed.columns, f\"Original numeric expected in preprocessed data but not found\"\n",
    "assert 'num_value_cat' in processed.columns, f\"Discretized column 'num_value_cat' expected in preprocessed data but not found\"\n",
    "\n",
    "preprocessor =  PysparkDataPreprocessor(\n",
    "        col_id='id',\n",
    "        col_event_time='event_dt',\n",
    "        event_time_transformation='none',\n",
    "        category_transformation = 'none',\n",
    "        cols_discretize={'num_value' : (discr_type,  n_bins_discr)},\n",
    "    )\n",
    "processed = preprocessor.fit_transform(df_spark)\n",
    "\n",
    "assert 'num_value' not in processed.columns, f\"Original numeric not expected in preprocessed data but found\"\n",
    "assert 'num_value_cat' in processed.columns, f\"Discretized column expected in preprocessed data but not found\"\n"
   ]
  },
  {
   "cell_type": "code",
   "execution_count": 2,
   "id": "0839af7b-7603-4a42-8706-78ed1469b226",
   "metadata": {},
   "outputs": [],
   "source": [
    "from ptls_tests.test_preprocessing.test_pyspark.test_discretizer import test_add_replace_col, test_distribution "
   ]
  },
  {
   "cell_type": "code",
   "execution_count": 3,
   "id": "1d3c1fdc-3da6-4098-9bfb-e6baa9a98897",
   "metadata": {},
   "outputs": [
    {
     "name": "stdout",
     "output_type": "stream",
     "text": [
      "Creating Dask Server\n",
      "Link Dask Server - http://172.20.10.8:8787/status\n"
     ]
    },
    {
     "name": "stderr",
     "output_type": "stream",
     "text": [
      "/home/everdark/diploma/pytorch-lifestream/ptls/preprocessing/pyspark/category_identity_encoder.py:80: UserWarning: 0 values fount in num_value_cat. 0 is a padding index\n",
      "  warnings.warn(\n"
     ]
    },
    {
     "name": "stdout",
     "output_type": "stream",
     "text": [
      "Creating Dask Server\n",
      "Link Dask Server - http://172.20.10.8:35641/status\n"
     ]
    },
    {
     "name": "stderr",
     "output_type": "stream",
     "text": [
      "/root/anaconda3/envs/torch/lib/python3.10/site-packages/distributed/node.py:182: UserWarning: Port 8787 is already in use.\n",
      "Perhaps you already have a cluster running?\n",
      "Hosting the HTTP server on port 35641 instead\n",
      "  warnings.warn(\n"
     ]
    },
    {
     "name": "stdout",
     "output_type": "stream",
     "text": [
      "Creating Dask Server\n",
      "Link Dask Server - http://172.20.10.8:34439/status\n"
     ]
    },
    {
     "name": "stderr",
     "output_type": "stream",
     "text": [
      "/root/anaconda3/envs/torch/lib/python3.10/site-packages/distributed/node.py:182: UserWarning: Port 8787 is already in use.\n",
      "Perhaps you already have a cluster running?\n",
      "Hosting the HTTP server on port 34439 instead\n",
      "  warnings.warn(\n",
      "25/06/16 18:50:14 WARN WindowExec: No Partition Defined for Window operation! Moving all data to a single partition, this can cause serious performance degradation.\n",
      "25/06/16 18:50:14 WARN WindowExec: No Partition Defined for Window operation! Moving all data to a single partition, this can cause serious performance degradation.\n",
      "25/06/16 18:50:14 WARN WindowExec: No Partition Defined for Window operation! Moving all data to a single partition, this can cause serious performance degradation.\n",
      "25/06/16 18:50:15 WARN WindowExec: No Partition Defined for Window operation! Moving all data to a single partition, this can cause serious performance degradation.\n",
      "25/06/16 18:50:15 WARN WindowExec: No Partition Defined for Window operation! Moving all data to a single partition, this can cause serious performance degradation.\n",
      "25/06/16 18:50:15 WARN WindowExec: No Partition Defined for Window operation! Moving all data to a single partition, this can cause serious performance degradation.\n"
     ]
    },
    {
     "name": "stdout",
     "output_type": "stream",
     "text": [
      "Discretization quantile: chi-square p-value is 1.00000\n",
      "Creating Dask Server\n"
     ]
    },
    {
     "name": "stderr",
     "output_type": "stream",
     "text": [
      "/root/anaconda3/envs/torch/lib/python3.10/site-packages/distributed/node.py:182: UserWarning: Port 8787 is already in use.\n",
      "Perhaps you already have a cluster running?\n",
      "Hosting the HTTP server on port 33181 instead\n",
      "  warnings.warn(\n"
     ]
    },
    {
     "name": "stdout",
     "output_type": "stream",
     "text": [
      "Link Dask Server - http://172.20.10.8:33181/status\n"
     ]
    },
    {
     "name": "stderr",
     "output_type": "stream",
     "text": [
      "25/06/16 18:50:20 WARN WindowExec: No Partition Defined for Window operation! Moving all data to a single partition, this can cause serious performance degradation.\n",
      "25/06/16 18:50:20 WARN WindowExec: No Partition Defined for Window operation! Moving all data to a single partition, this can cause serious performance degradation.\n",
      "25/06/16 18:50:20 WARN WindowExec: No Partition Defined for Window operation! Moving all data to a single partition, this can cause serious performance degradation.\n",
      "25/06/16 18:50:20 WARN WindowExec: No Partition Defined for Window operation! Moving all data to a single partition, this can cause serious performance degradation.\n",
      "25/06/16 18:50:20 WARN WindowExec: No Partition Defined for Window operation! Moving all data to a single partition, this can cause serious performance degradation.\n",
      "25/06/16 18:50:20 WARN WindowExec: No Partition Defined for Window operation! Moving all data to a single partition, this can cause serious performance degradation.\n"
     ]
    },
    {
     "name": "stdout",
     "output_type": "stream",
     "text": [
      "Discretization kmeans: chi-square p-value is 1.00000\n"
     ]
    }
   ],
   "source": [
    "test_add_replace_col()\n",
    "test_distribution()"
   ]
  },
  {
   "cell_type": "code",
   "execution_count": 2,
   "id": "a10907f8-feb4-44fb-8f9c-0434701bd4bf",
   "metadata": {},
   "outputs": [],
   "source": [
    "from ptls_tests.test_preprocessing.test_pandas.test_discretizer import test_add_replace_col, test_distribution "
   ]
  },
  {
   "cell_type": "code",
   "execution_count": 3,
   "id": "ef5023d8-b9ae-4950-b4d7-44caf6e6b43c",
   "metadata": {},
   "outputs": [
    {
     "name": "stdout",
     "output_type": "stream",
     "text": [
      "Creating Dask Server\n",
      "Link Dask Server - http://192.168.1.90:8787/status\n",
      "Creating Dask Server\n",
      "Link Dask Server - http://192.168.1.90:42717/status\n",
      "Creating Dask Server\n",
      "Link Dask Server - http://192.168.1.90:40685/status\n"
     ]
    },
    {
     "name": "stderr",
     "output_type": "stream",
     "text": [
      "/home/everdark/diploma/pytorch-lifestream/ptls/preprocessing/pandas/pandas_transformation/category_identity_encoder.py:67: UserWarning: 0 values fount in num_value_cat. 0 is a padding index\n",
      "  warnings.warn(\n",
      "/root/anaconda3/envs/torch/lib/python3.10/site-packages/distributed/node.py:182: UserWarning: Port 8787 is already in use.\n",
      "Perhaps you already have a cluster running?\n",
      "Hosting the HTTP server on port 42717 instead\n",
      "  warnings.warn(\n",
      "/home/everdark/diploma/pytorch-lifestream/ptls/preprocessing/pandas/pandas_transformation/category_identity_encoder.py:67: UserWarning: 0 values fount in num_value_cat. 0 is a padding index\n",
      "  warnings.warn(\n",
      "/root/anaconda3/envs/torch/lib/python3.10/site-packages/distributed/node.py:182: UserWarning: Port 8787 is already in use.\n",
      "Perhaps you already have a cluster running?\n",
      "Hosting the HTTP server on port 40685 instead\n",
      "  warnings.warn(\n"
     ]
    },
    {
     "name": "stdout",
     "output_type": "stream",
     "text": [
      "Discretization kmeans: chi-square p-value is 1.00000\n",
      "Creating Dask Server\n",
      "Link Dask Server - http://192.168.1.90:36855/status\n",
      "Discretization quantile: chi-square p-value is 1.00000\n"
     ]
    },
    {
     "name": "stderr",
     "output_type": "stream",
     "text": [
      "/root/anaconda3/envs/torch/lib/python3.10/site-packages/distributed/node.py:182: UserWarning: Port 8787 is already in use.\n",
      "Perhaps you already have a cluster running?\n",
      "Hosting the HTTP server on port 36855 instead\n",
      "  warnings.warn(\n"
     ]
    }
   ],
   "source": [
    "test_add_replace_col()\n",
    "test_distribution()"
   ]
  },
  {
   "cell_type": "code",
   "execution_count": null,
   "id": "72f2f422-9bf6-43f0-95e1-7733dace5517",
   "metadata": {},
   "outputs": [],
   "source": []
  }
 ],
 "metadata": {
  "kernelspec": {
   "display_name": "Python 3 (ipykernel)",
   "language": "python",
   "name": "python3"
  },
  "language_info": {
   "codemirror_mode": {
    "name": "ipython",
    "version": 3
   },
   "file_extension": ".py",
   "mimetype": "text/x-python",
   "name": "python",
   "nbconvert_exporter": "python",
   "pygments_lexer": "ipython3",
   "version": "3.10.15"
  }
 },
 "nbformat": 4,
 "nbformat_minor": 5
}
